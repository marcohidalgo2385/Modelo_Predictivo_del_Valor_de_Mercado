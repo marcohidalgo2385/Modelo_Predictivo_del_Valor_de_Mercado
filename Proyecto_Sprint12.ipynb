{
 "cells": [
  {
   "cell_type": "markdown",
   "metadata": {},
   "source": [
    "Hola Marco!\n",
    "\n",
    "Soy **Patricio Requena** 👋. Es un placer ser el revisor de tu proyecto el día de hoy!\n",
    "\n",
    "Revisaré tu proyecto detenidamente con el objetivo de ayudarte a mejorar y perfeccionar tus habilidades. Durante mi revisión, identificaré áreas donde puedas hacer mejoras en tu código, señalando específicamente qué y cómo podrías ajustar para optimizar el rendimiento y la claridad de tu proyecto. Además, es importante para mí destacar los aspectos que has manejado excepcionalmente bien. Reconocer tus fortalezas te ayudará a entender qué técnicas y métodos están funcionando a tu favor y cómo puedes aplicarlos en futuras tareas. \n",
    "\n",
    "_**Recuerda que al final de este notebook encontrarás un comentario general de mi parte**_, empecemos!\n",
    "\n",
    "Encontrarás mis comentarios dentro de cajas verdes, amarillas o rojas, ⚠️ **por favor, no muevas, modifiques o borres mis comentarios** ⚠️:\n",
    "\n",
    "\n",
    "<div class=\"alert alert-block alert-success\">\n",
    "<b>Comentario del revisor</b> <a class=“tocSkip”></a>\n",
    "Si todo está perfecto.\n",
    "</div>\n",
    "\n",
    "<div class=\"alert alert-block alert-warning\">\n",
    "<b>Comentario del revisor</b> <a class=“tocSkip”></a>\n",
    "Si tu código está bien pero se puede mejorar o hay algún detalle que le hace falta.\n",
    "</div>\n",
    "\n",
    "<div class=\"alert alert-block alert-danger\">\n",
    "<b>Comentario del revisor</b> <a class=“tocSkip”></a>\n",
    "Si de pronto hace falta algo o existe algún problema con tu código o conclusiones.\n",
    "</div>\n",
    "\n",
    "Puedes responderme de esta forma:\n",
    "<div class=\"alert alert-block alert-info\">\n",
    "<b>Respuesta del estudiante</b> <a class=“tocSkip”></a>\n",
    "</div>"
   ]
  },
  {
   "cell_type": "markdown",
   "metadata": {},
   "source": [
    "El servicio de venta de autos usados Rusty Bargain está desarrollando una aplicación para atraer nuevos clientes. Gracias a esa app, puedes averiguar rápidamente el valor de mercado de tu coche. Tienes acceso al historial: especificaciones técnicas, versiones de equipamiento y precios. Tienes que crear un modelo que determine el valor de mercado.\n",
    "A Rusty Bargain le interesa:\n",
    "- la calidad de la predicción;\n",
    "- la velocidad de la predicción;\n",
    "- el tiempo requerido para el entrenamiento"
   ]
  },
  {
   "cell_type": "markdown",
   "metadata": {},
   "source": [
    "## Preparación de datos"
   ]
  },
  {
   "cell_type": "code",
   "execution_count": 1,
   "metadata": {},
   "outputs": [],
   "source": [
    "#Importar librerias\n",
    "\n",
    "import pandas as pd\n",
    "import numpy as np\n",
    "import matplotlib.pyplot as plt\n",
    "import time\n",
    "from sklearn.tree import DecisionTreeRegressor\n",
    "from sklearn.ensemble import RandomForestRegressor\n",
    "from sklearn.linear_model import LinearRegression\n",
    "from sklearn.preprocessing import OneHotEncoder, MaxAbsScaler\n",
    "from sklearn.model_selection import train_test_split, GridSearchCV\n",
    "from sklearn.model_selection import RandomizedSearchCV\n",
    "from sklearn.metrics import mean_squared_error\n",
    "import lightgbm as lgb\n",
    "from catboost import Pool, CatBoostRegressor"
   ]
  },
  {
   "cell_type": "markdown",
   "metadata": {},
   "source": [
    "<div class=\"alert alert-block alert-info\">\n",
    "<b>Comentario del revisor (1ra Iteracion)</b> <a class=“tocSkip”></a>\n",
    "\n",
    "Una buena práctica para cuando tengas que importar varias librerías es seguir el siguiente órden en las mismas:\n",
    "\n",
    "- Primero todas las librerías que vienen ya con python cómo `datetime`, `os`, `json`, etc.\n",
    "- Luego de las librerías de Python si las de terceros cómo `pandas`, `scipy`, `numpy`, etc.\n",
    "- Por último, en el caso de que armes tu propio módulo en tu proyecto esto debería ir en tercer lugar, y recuerda siempre ordenar cada tipo por orden alfabético\n",
    "    \n",
    "Para cada sección se deben ordenar en orden alfabético\n",
    "</div>"
   ]
  },
  {
   "cell_type": "code",
   "execution_count": 2,
   "metadata": {},
   "outputs": [
    {
     "data": {
      "text/html": [
       "<div>\n",
       "<style scoped>\n",
       "    .dataframe tbody tr th:only-of-type {\n",
       "        vertical-align: middle;\n",
       "    }\n",
       "\n",
       "    .dataframe tbody tr th {\n",
       "        vertical-align: top;\n",
       "    }\n",
       "\n",
       "    .dataframe thead th {\n",
       "        text-align: right;\n",
       "    }\n",
       "</style>\n",
       "<table border=\"1\" class=\"dataframe\">\n",
       "  <thead>\n",
       "    <tr style=\"text-align: right;\">\n",
       "      <th></th>\n",
       "      <th>DateCrawled</th>\n",
       "      <th>Price</th>\n",
       "      <th>VehicleType</th>\n",
       "      <th>RegistrationYear</th>\n",
       "      <th>Gearbox</th>\n",
       "      <th>Power</th>\n",
       "      <th>Model</th>\n",
       "      <th>Mileage</th>\n",
       "      <th>RegistrationMonth</th>\n",
       "      <th>FuelType</th>\n",
       "      <th>Brand</th>\n",
       "      <th>NotRepaired</th>\n",
       "      <th>DateCreated</th>\n",
       "      <th>NumberOfPictures</th>\n",
       "      <th>PostalCode</th>\n",
       "      <th>LastSeen</th>\n",
       "    </tr>\n",
       "  </thead>\n",
       "  <tbody>\n",
       "    <tr>\n",
       "      <th>0</th>\n",
       "      <td>24/03/2016 11:52</td>\n",
       "      <td>480</td>\n",
       "      <td>NaN</td>\n",
       "      <td>1993</td>\n",
       "      <td>manual</td>\n",
       "      <td>0</td>\n",
       "      <td>golf</td>\n",
       "      <td>150000</td>\n",
       "      <td>0</td>\n",
       "      <td>petrol</td>\n",
       "      <td>volkswagen</td>\n",
       "      <td>NaN</td>\n",
       "      <td>24/03/2016 00:00</td>\n",
       "      <td>0</td>\n",
       "      <td>70435</td>\n",
       "      <td>07/04/2016 03:16</td>\n",
       "    </tr>\n",
       "    <tr>\n",
       "      <th>1</th>\n",
       "      <td>24/03/2016 10:58</td>\n",
       "      <td>18300</td>\n",
       "      <td>coupe</td>\n",
       "      <td>2011</td>\n",
       "      <td>manual</td>\n",
       "      <td>190</td>\n",
       "      <td>NaN</td>\n",
       "      <td>125000</td>\n",
       "      <td>5</td>\n",
       "      <td>gasoline</td>\n",
       "      <td>audi</td>\n",
       "      <td>yes</td>\n",
       "      <td>24/03/2016 00:00</td>\n",
       "      <td>0</td>\n",
       "      <td>66954</td>\n",
       "      <td>07/04/2016 01:46</td>\n",
       "    </tr>\n",
       "    <tr>\n",
       "      <th>2</th>\n",
       "      <td>14/03/2016 12:52</td>\n",
       "      <td>9800</td>\n",
       "      <td>suv</td>\n",
       "      <td>2004</td>\n",
       "      <td>auto</td>\n",
       "      <td>163</td>\n",
       "      <td>grand</td>\n",
       "      <td>125000</td>\n",
       "      <td>8</td>\n",
       "      <td>gasoline</td>\n",
       "      <td>jeep</td>\n",
       "      <td>NaN</td>\n",
       "      <td>14/03/2016 00:00</td>\n",
       "      <td>0</td>\n",
       "      <td>90480</td>\n",
       "      <td>05/04/2016 12:47</td>\n",
       "    </tr>\n",
       "    <tr>\n",
       "      <th>3</th>\n",
       "      <td>17/03/2016 16:54</td>\n",
       "      <td>1500</td>\n",
       "      <td>small</td>\n",
       "      <td>2001</td>\n",
       "      <td>manual</td>\n",
       "      <td>75</td>\n",
       "      <td>golf</td>\n",
       "      <td>150000</td>\n",
       "      <td>6</td>\n",
       "      <td>petrol</td>\n",
       "      <td>volkswagen</td>\n",
       "      <td>no</td>\n",
       "      <td>17/03/2016 00:00</td>\n",
       "      <td>0</td>\n",
       "      <td>91074</td>\n",
       "      <td>17/03/2016 17:40</td>\n",
       "    </tr>\n",
       "    <tr>\n",
       "      <th>4</th>\n",
       "      <td>31/03/2016 17:25</td>\n",
       "      <td>3600</td>\n",
       "      <td>small</td>\n",
       "      <td>2008</td>\n",
       "      <td>manual</td>\n",
       "      <td>69</td>\n",
       "      <td>fabia</td>\n",
       "      <td>90000</td>\n",
       "      <td>7</td>\n",
       "      <td>gasoline</td>\n",
       "      <td>skoda</td>\n",
       "      <td>no</td>\n",
       "      <td>31/03/2016 00:00</td>\n",
       "      <td>0</td>\n",
       "      <td>60437</td>\n",
       "      <td>06/04/2016 10:17</td>\n",
       "    </tr>\n",
       "    <tr>\n",
       "      <th>...</th>\n",
       "      <td>...</td>\n",
       "      <td>...</td>\n",
       "      <td>...</td>\n",
       "      <td>...</td>\n",
       "      <td>...</td>\n",
       "      <td>...</td>\n",
       "      <td>...</td>\n",
       "      <td>...</td>\n",
       "      <td>...</td>\n",
       "      <td>...</td>\n",
       "      <td>...</td>\n",
       "      <td>...</td>\n",
       "      <td>...</td>\n",
       "      <td>...</td>\n",
       "      <td>...</td>\n",
       "      <td>...</td>\n",
       "    </tr>\n",
       "    <tr>\n",
       "      <th>354364</th>\n",
       "      <td>21/03/2016 09:50</td>\n",
       "      <td>0</td>\n",
       "      <td>NaN</td>\n",
       "      <td>2005</td>\n",
       "      <td>manual</td>\n",
       "      <td>0</td>\n",
       "      <td>colt</td>\n",
       "      <td>150000</td>\n",
       "      <td>7</td>\n",
       "      <td>petrol</td>\n",
       "      <td>mitsubishi</td>\n",
       "      <td>yes</td>\n",
       "      <td>21/03/2016 00:00</td>\n",
       "      <td>0</td>\n",
       "      <td>2694</td>\n",
       "      <td>21/03/2016 10:42</td>\n",
       "    </tr>\n",
       "    <tr>\n",
       "      <th>354365</th>\n",
       "      <td>14/03/2016 17:48</td>\n",
       "      <td>2200</td>\n",
       "      <td>NaN</td>\n",
       "      <td>2005</td>\n",
       "      <td>NaN</td>\n",
       "      <td>0</td>\n",
       "      <td>NaN</td>\n",
       "      <td>20000</td>\n",
       "      <td>1</td>\n",
       "      <td>NaN</td>\n",
       "      <td>sonstige_autos</td>\n",
       "      <td>NaN</td>\n",
       "      <td>14/03/2016 00:00</td>\n",
       "      <td>0</td>\n",
       "      <td>39576</td>\n",
       "      <td>06/04/2016 00:46</td>\n",
       "    </tr>\n",
       "    <tr>\n",
       "      <th>354366</th>\n",
       "      <td>05/03/2016 19:56</td>\n",
       "      <td>1199</td>\n",
       "      <td>convertible</td>\n",
       "      <td>2000</td>\n",
       "      <td>auto</td>\n",
       "      <td>101</td>\n",
       "      <td>fortwo</td>\n",
       "      <td>125000</td>\n",
       "      <td>3</td>\n",
       "      <td>petrol</td>\n",
       "      <td>smart</td>\n",
       "      <td>no</td>\n",
       "      <td>05/03/2016 00:00</td>\n",
       "      <td>0</td>\n",
       "      <td>26135</td>\n",
       "      <td>11/03/2016 18:17</td>\n",
       "    </tr>\n",
       "    <tr>\n",
       "      <th>354367</th>\n",
       "      <td>19/03/2016 18:57</td>\n",
       "      <td>9200</td>\n",
       "      <td>bus</td>\n",
       "      <td>1996</td>\n",
       "      <td>manual</td>\n",
       "      <td>102</td>\n",
       "      <td>transporter</td>\n",
       "      <td>150000</td>\n",
       "      <td>3</td>\n",
       "      <td>gasoline</td>\n",
       "      <td>volkswagen</td>\n",
       "      <td>no</td>\n",
       "      <td>19/03/2016 00:00</td>\n",
       "      <td>0</td>\n",
       "      <td>87439</td>\n",
       "      <td>07/04/2016 07:15</td>\n",
       "    </tr>\n",
       "    <tr>\n",
       "      <th>354368</th>\n",
       "      <td>20/03/2016 19:41</td>\n",
       "      <td>3400</td>\n",
       "      <td>wagon</td>\n",
       "      <td>2002</td>\n",
       "      <td>manual</td>\n",
       "      <td>100</td>\n",
       "      <td>golf</td>\n",
       "      <td>150000</td>\n",
       "      <td>6</td>\n",
       "      <td>gasoline</td>\n",
       "      <td>volkswagen</td>\n",
       "      <td>NaN</td>\n",
       "      <td>20/03/2016 00:00</td>\n",
       "      <td>0</td>\n",
       "      <td>40764</td>\n",
       "      <td>24/03/2016 12:45</td>\n",
       "    </tr>\n",
       "  </tbody>\n",
       "</table>\n",
       "<p>354369 rows × 16 columns</p>\n",
       "</div>"
      ],
      "text/plain": [
       "             DateCrawled  Price  VehicleType  RegistrationYear Gearbox  Power  \\\n",
       "0       24/03/2016 11:52    480          NaN              1993  manual      0   \n",
       "1       24/03/2016 10:58  18300        coupe              2011  manual    190   \n",
       "2       14/03/2016 12:52   9800          suv              2004    auto    163   \n",
       "3       17/03/2016 16:54   1500        small              2001  manual     75   \n",
       "4       31/03/2016 17:25   3600        small              2008  manual     69   \n",
       "...                  ...    ...          ...               ...     ...    ...   \n",
       "354364  21/03/2016 09:50      0          NaN              2005  manual      0   \n",
       "354365  14/03/2016 17:48   2200          NaN              2005     NaN      0   \n",
       "354366  05/03/2016 19:56   1199  convertible              2000    auto    101   \n",
       "354367  19/03/2016 18:57   9200          bus              1996  manual    102   \n",
       "354368  20/03/2016 19:41   3400        wagon              2002  manual    100   \n",
       "\n",
       "              Model  Mileage  RegistrationMonth  FuelType           Brand  \\\n",
       "0              golf   150000                  0    petrol      volkswagen   \n",
       "1               NaN   125000                  5  gasoline            audi   \n",
       "2             grand   125000                  8  gasoline            jeep   \n",
       "3              golf   150000                  6    petrol      volkswagen   \n",
       "4             fabia    90000                  7  gasoline           skoda   \n",
       "...             ...      ...                ...       ...             ...   \n",
       "354364         colt   150000                  7    petrol      mitsubishi   \n",
       "354365          NaN    20000                  1       NaN  sonstige_autos   \n",
       "354366       fortwo   125000                  3    petrol           smart   \n",
       "354367  transporter   150000                  3  gasoline      volkswagen   \n",
       "354368         golf   150000                  6  gasoline      volkswagen   \n",
       "\n",
       "       NotRepaired       DateCreated  NumberOfPictures  PostalCode  \\\n",
       "0              NaN  24/03/2016 00:00                 0       70435   \n",
       "1              yes  24/03/2016 00:00                 0       66954   \n",
       "2              NaN  14/03/2016 00:00                 0       90480   \n",
       "3               no  17/03/2016 00:00                 0       91074   \n",
       "4               no  31/03/2016 00:00                 0       60437   \n",
       "...            ...               ...               ...         ...   \n",
       "354364         yes  21/03/2016 00:00                 0        2694   \n",
       "354365         NaN  14/03/2016 00:00                 0       39576   \n",
       "354366          no  05/03/2016 00:00                 0       26135   \n",
       "354367          no  19/03/2016 00:00                 0       87439   \n",
       "354368         NaN  20/03/2016 00:00                 0       40764   \n",
       "\n",
       "                LastSeen  \n",
       "0       07/04/2016 03:16  \n",
       "1       07/04/2016 01:46  \n",
       "2       05/04/2016 12:47  \n",
       "3       17/03/2016 17:40  \n",
       "4       06/04/2016 10:17  \n",
       "...                  ...  \n",
       "354364  21/03/2016 10:42  \n",
       "354365  06/04/2016 00:46  \n",
       "354366  11/03/2016 18:17  \n",
       "354367  07/04/2016 07:15  \n",
       "354368  24/03/2016 12:45  \n",
       "\n",
       "[354369 rows x 16 columns]"
      ]
     },
     "execution_count": 2,
     "metadata": {},
     "output_type": "execute_result"
    }
   ],
   "source": [
    "#Carga de Datos\n",
    "\n",
    "df = pd.read_csv('/datasets/car_data.csv')\n",
    "df"
   ]
  },
  {
   "cell_type": "code",
   "execution_count": 3,
   "metadata": {},
   "outputs": [
    {
     "data": {
      "text/plain": [
       "(354369, 16)"
      ]
     },
     "execution_count": 3,
     "metadata": {},
     "output_type": "execute_result"
    }
   ],
   "source": [
    "df.shape"
   ]
  },
  {
   "cell_type": "code",
   "execution_count": 4,
   "metadata": {
    "scrolled": true
   },
   "outputs": [
    {
     "name": "stdout",
     "output_type": "stream",
     "text": [
      "<class 'pandas.core.frame.DataFrame'>\n",
      "RangeIndex: 354369 entries, 0 to 354368\n",
      "Data columns (total 16 columns):\n",
      " #   Column             Non-Null Count   Dtype \n",
      "---  ------             --------------   ----- \n",
      " 0   DateCrawled        354369 non-null  object\n",
      " 1   Price              354369 non-null  int64 \n",
      " 2   VehicleType        316879 non-null  object\n",
      " 3   RegistrationYear   354369 non-null  int64 \n",
      " 4   Gearbox            334536 non-null  object\n",
      " 5   Power              354369 non-null  int64 \n",
      " 6   Model              334664 non-null  object\n",
      " 7   Mileage            354369 non-null  int64 \n",
      " 8   RegistrationMonth  354369 non-null  int64 \n",
      " 9   FuelType           321474 non-null  object\n",
      " 10  Brand              354369 non-null  object\n",
      " 11  NotRepaired        283215 non-null  object\n",
      " 12  DateCreated        354369 non-null  object\n",
      " 13  NumberOfPictures   354369 non-null  int64 \n",
      " 14  PostalCode         354369 non-null  int64 \n",
      " 15  LastSeen           354369 non-null  object\n",
      "dtypes: int64(7), object(9)\n",
      "memory usage: 43.3+ MB\n"
     ]
    }
   ],
   "source": [
    "#informacion general del dataset\n",
    "\n",
    "df.info()"
   ]
  },
  {
   "cell_type": "markdown",
   "metadata": {},
   "source": [
    "Se puede observar que existen valores ausentes en varias columnas, y se modificarán los nombres de las columnas también para que queden como minúsculas, además se observa que el campo que tiene fecha se encuentra como tipo objeto."
   ]
  },
  {
   "cell_type": "code",
   "execution_count": 5,
   "metadata": {
    "scrolled": false
   },
   "outputs": [
    {
     "name": "stdout",
     "output_type": "stream",
     "text": [
      "<class 'pandas.core.frame.DataFrame'>\n",
      "RangeIndex: 354369 entries, 0 to 354368\n",
      "Data columns (total 16 columns):\n",
      " #   Column             Non-Null Count   Dtype \n",
      "---  ------             --------------   ----- \n",
      " 0   datecrawled        354369 non-null  object\n",
      " 1   price              354369 non-null  int64 \n",
      " 2   vehicletype        316879 non-null  object\n",
      " 3   registrationyear   354369 non-null  int64 \n",
      " 4   gearbox            334536 non-null  object\n",
      " 5   power              354369 non-null  int64 \n",
      " 6   model              334664 non-null  object\n",
      " 7   mileage            354369 non-null  int64 \n",
      " 8   registrationmonth  354369 non-null  int64 \n",
      " 9   fueltype           321474 non-null  object\n",
      " 10  brand              354369 non-null  object\n",
      " 11  notrepaired        283215 non-null  object\n",
      " 12  datecreated        354369 non-null  object\n",
      " 13  numberofpictures   354369 non-null  int64 \n",
      " 14  postalcode         354369 non-null  int64 \n",
      " 15  lastseen           354369 non-null  object\n",
      "dtypes: int64(7), object(9)\n",
      "memory usage: 43.3+ MB\n"
     ]
    }
   ],
   "source": [
    "#Cambio de nombres de columnas a minusculas\n",
    "\n",
    "df.columns = df.columns.str.lower()\n",
    "df.info()"
   ]
  },
  {
   "cell_type": "code",
   "execution_count": 6,
   "metadata": {},
   "outputs": [
    {
     "name": "stdout",
     "output_type": "stream",
     "text": [
      "<class 'pandas.core.frame.DataFrame'>\n",
      "RangeIndex: 354369 entries, 0 to 354368\n",
      "Data columns (total 16 columns):\n",
      " #   Column             Non-Null Count   Dtype         \n",
      "---  ------             --------------   -----         \n",
      " 0   datecrawled        354369 non-null  datetime64[ns]\n",
      " 1   price              354369 non-null  int64         \n",
      " 2   vehicletype        316879 non-null  object        \n",
      " 3   registrationyear   354369 non-null  int64         \n",
      " 4   gearbox            334536 non-null  object        \n",
      " 5   power              354369 non-null  int64         \n",
      " 6   model              334664 non-null  object        \n",
      " 7   mileage            354369 non-null  int64         \n",
      " 8   registrationmonth  354369 non-null  int64         \n",
      " 9   fueltype           321474 non-null  object        \n",
      " 10  brand              354369 non-null  object        \n",
      " 11  notrepaired        283215 non-null  object        \n",
      " 12  datecreated        354369 non-null  datetime64[ns]\n",
      " 13  numberofpictures   354369 non-null  int64         \n",
      " 14  postalcode         354369 non-null  int64         \n",
      " 15  lastseen           354369 non-null  datetime64[ns]\n",
      "dtypes: datetime64[ns](3), int64(7), object(6)\n",
      "memory usage: 43.3+ MB\n"
     ]
    }
   ],
   "source": [
    "#Cambio de formato de columnas tipo objeto a fecha\n",
    "\n",
    "date_columns = ['datecrawled', 'datecreated', 'lastseen']\n",
    "for i in date_columns:\n",
    "    df[i] = pd.to_datetime(df[i], format='%d/%m/%Y %H:%M')\n",
    "    \n",
    "df.info()"
   ]
  },
  {
   "cell_type": "code",
   "execution_count": 7,
   "metadata": {},
   "outputs": [
    {
     "data": {
      "text/plain": [
       "datecrawled              0\n",
       "price                    0\n",
       "vehicletype          37490\n",
       "registrationyear         0\n",
       "gearbox              19833\n",
       "power                    0\n",
       "model                19705\n",
       "mileage                  0\n",
       "registrationmonth        0\n",
       "fueltype             32895\n",
       "brand                    0\n",
       "notrepaired          71154\n",
       "datecreated              0\n",
       "numberofpictures         0\n",
       "postalcode               0\n",
       "lastseen                 0\n",
       "dtype: int64"
      ]
     },
     "execution_count": 7,
     "metadata": {},
     "output_type": "execute_result"
    }
   ],
   "source": [
    "#verificar valores ausentes\n",
    "df.isna().sum()"
   ]
  },
  {
   "cell_type": "code",
   "execution_count": 8,
   "metadata": {},
   "outputs": [
    {
     "name": "stdout",
     "output_type": "stream",
     "text": [
      "Porcentaje de valores ausentes en vehicletype es: 10.57936783409384 %\n",
      "\n",
      "Porcentaje de valores ausentes en gearbox es: 5.596708515699737 %\n",
      "\n",
      "Porcentaje de valores ausentes en model es: 5.560587974681758 %\n",
      "\n",
      "Porcentaje de valores ausentes en fueltype es: 9.282696849893755 %\n",
      "\n",
      "Porcentaje de valores ausentes en notrepaired es: 20.079070121822166 %\n"
     ]
    }
   ],
   "source": [
    "# Revisar el porcentaje que representan los valores ausentes por campo\n",
    "\n",
    "print('Porcentaje de valores ausentes en vehicletype es:', df['vehicletype'].isna().sum()/354369*100, '%')\n",
    "print()\n",
    "print('Porcentaje de valores ausentes en gearbox es:', df['gearbox'].isna().sum()/354369*100, '%')\n",
    "print()\n",
    "print('Porcentaje de valores ausentes en model es:', df['model'].isna().sum()/354369*100, '%')\n",
    "print()\n",
    "print('Porcentaje de valores ausentes en fueltype es:', df['fueltype'].isna().sum()/354369*100, '%')\n",
    "print()\n",
    "print('Porcentaje de valores ausentes en notrepaired es:', df['notrepaired'].isna().sum()/354369*100, '%')"
   ]
  },
  {
   "cell_type": "markdown",
   "metadata": {},
   "source": [
    "Con excepcion del campo notrepaired, los datos del resto de columnas podrian ser despreciables ya que representan menos del 10% del total de datos. \n",
    "\n",
    "En cuanto a los datos del campo notrepaired, se deberan analizar mas a fondo antes de tomar una decision."
   ]
  },
  {
   "cell_type": "code",
   "execution_count": 9,
   "metadata": {
    "scrolled": true
   },
   "outputs": [
    {
     "data": {
      "text/plain": [
       "array([nan, 'yes', 'no'], dtype=object)"
      ]
     },
     "execution_count": 9,
     "metadata": {},
     "output_type": "execute_result"
    }
   ],
   "source": [
    "df['notrepaired'].unique()"
   ]
  },
  {
   "cell_type": "markdown",
   "metadata": {},
   "source": [
    "En vista de que no tenemos certeza del 20% de vehiculos fueron reparados o no, rellenaremos estos datos como desconocido o 'unknown', caracteristica que podriamos usar para predecir el precio de un vehiculo"
   ]
  },
  {
   "cell_type": "code",
   "execution_count": 10,
   "metadata": {},
   "outputs": [
    {
     "name": "stdout",
     "output_type": "stream",
     "text": [
      "<class 'pandas.core.frame.DataFrame'>\n",
      "RangeIndex: 354369 entries, 0 to 354368\n",
      "Data columns (total 16 columns):\n",
      " #   Column             Non-Null Count   Dtype         \n",
      "---  ------             --------------   -----         \n",
      " 0   datecrawled        354369 non-null  datetime64[ns]\n",
      " 1   price              354369 non-null  int64         \n",
      " 2   vehicletype        316879 non-null  object        \n",
      " 3   registrationyear   354369 non-null  int64         \n",
      " 4   gearbox            334536 non-null  object        \n",
      " 5   power              354369 non-null  int64         \n",
      " 6   model              334664 non-null  object        \n",
      " 7   mileage            354369 non-null  int64         \n",
      " 8   registrationmonth  354369 non-null  int64         \n",
      " 9   fueltype           321474 non-null  object        \n",
      " 10  brand              354369 non-null  object        \n",
      " 11  notrepaired        354369 non-null  object        \n",
      " 12  datecreated        354369 non-null  datetime64[ns]\n",
      " 13  numberofpictures   354369 non-null  int64         \n",
      " 14  postalcode         354369 non-null  int64         \n",
      " 15  lastseen           354369 non-null  datetime64[ns]\n",
      "dtypes: datetime64[ns](3), int64(7), object(6)\n",
      "memory usage: 43.3+ MB\n"
     ]
    }
   ],
   "source": [
    "#Llenamos los ausentes de notrepaired con unknown\n",
    "\n",
    "df['notrepaired'] = df['notrepaired'].fillna('unknown') \n",
    "\n",
    "df.info()"
   ]
  },
  {
   "cell_type": "code",
   "execution_count": 11,
   "metadata": {
    "scrolled": false
   },
   "outputs": [
    {
     "data": {
      "text/html": [
       "<div>\n",
       "<style scoped>\n",
       "    .dataframe tbody tr th:only-of-type {\n",
       "        vertical-align: middle;\n",
       "    }\n",
       "\n",
       "    .dataframe tbody tr th {\n",
       "        vertical-align: top;\n",
       "    }\n",
       "\n",
       "    .dataframe thead th {\n",
       "        text-align: right;\n",
       "    }\n",
       "</style>\n",
       "<table border=\"1\" class=\"dataframe\">\n",
       "  <thead>\n",
       "    <tr style=\"text-align: right;\">\n",
       "      <th></th>\n",
       "      <th>price</th>\n",
       "      <th>registrationyear</th>\n",
       "      <th>power</th>\n",
       "      <th>mileage</th>\n",
       "      <th>registrationmonth</th>\n",
       "      <th>numberofpictures</th>\n",
       "      <th>postalcode</th>\n",
       "    </tr>\n",
       "  </thead>\n",
       "  <tbody>\n",
       "    <tr>\n",
       "      <th>count</th>\n",
       "      <td>354369.000000</td>\n",
       "      <td>354369.000000</td>\n",
       "      <td>354369.000000</td>\n",
       "      <td>354369.000000</td>\n",
       "      <td>354369.000000</td>\n",
       "      <td>354369.0</td>\n",
       "      <td>354369.000000</td>\n",
       "    </tr>\n",
       "    <tr>\n",
       "      <th>mean</th>\n",
       "      <td>4416.656776</td>\n",
       "      <td>2004.234448</td>\n",
       "      <td>110.094337</td>\n",
       "      <td>128211.172535</td>\n",
       "      <td>5.714645</td>\n",
       "      <td>0.0</td>\n",
       "      <td>50508.689087</td>\n",
       "    </tr>\n",
       "    <tr>\n",
       "      <th>std</th>\n",
       "      <td>4514.158514</td>\n",
       "      <td>90.227958</td>\n",
       "      <td>189.850405</td>\n",
       "      <td>37905.341530</td>\n",
       "      <td>3.726421</td>\n",
       "      <td>0.0</td>\n",
       "      <td>25783.096248</td>\n",
       "    </tr>\n",
       "    <tr>\n",
       "      <th>min</th>\n",
       "      <td>0.000000</td>\n",
       "      <td>1000.000000</td>\n",
       "      <td>0.000000</td>\n",
       "      <td>5000.000000</td>\n",
       "      <td>0.000000</td>\n",
       "      <td>0.0</td>\n",
       "      <td>1067.000000</td>\n",
       "    </tr>\n",
       "    <tr>\n",
       "      <th>25%</th>\n",
       "      <td>1050.000000</td>\n",
       "      <td>1999.000000</td>\n",
       "      <td>69.000000</td>\n",
       "      <td>125000.000000</td>\n",
       "      <td>3.000000</td>\n",
       "      <td>0.0</td>\n",
       "      <td>30165.000000</td>\n",
       "    </tr>\n",
       "    <tr>\n",
       "      <th>50%</th>\n",
       "      <td>2700.000000</td>\n",
       "      <td>2003.000000</td>\n",
       "      <td>105.000000</td>\n",
       "      <td>150000.000000</td>\n",
       "      <td>6.000000</td>\n",
       "      <td>0.0</td>\n",
       "      <td>49413.000000</td>\n",
       "    </tr>\n",
       "    <tr>\n",
       "      <th>75%</th>\n",
       "      <td>6400.000000</td>\n",
       "      <td>2008.000000</td>\n",
       "      <td>143.000000</td>\n",
       "      <td>150000.000000</td>\n",
       "      <td>9.000000</td>\n",
       "      <td>0.0</td>\n",
       "      <td>71083.000000</td>\n",
       "    </tr>\n",
       "    <tr>\n",
       "      <th>max</th>\n",
       "      <td>20000.000000</td>\n",
       "      <td>9999.000000</td>\n",
       "      <td>20000.000000</td>\n",
       "      <td>150000.000000</td>\n",
       "      <td>12.000000</td>\n",
       "      <td>0.0</td>\n",
       "      <td>99998.000000</td>\n",
       "    </tr>\n",
       "  </tbody>\n",
       "</table>\n",
       "</div>"
      ],
      "text/plain": [
       "               price  registrationyear          power        mileage  \\\n",
       "count  354369.000000     354369.000000  354369.000000  354369.000000   \n",
       "mean     4416.656776       2004.234448     110.094337  128211.172535   \n",
       "std      4514.158514         90.227958     189.850405   37905.341530   \n",
       "min         0.000000       1000.000000       0.000000    5000.000000   \n",
       "25%      1050.000000       1999.000000      69.000000  125000.000000   \n",
       "50%      2700.000000       2003.000000     105.000000  150000.000000   \n",
       "75%      6400.000000       2008.000000     143.000000  150000.000000   \n",
       "max     20000.000000       9999.000000   20000.000000  150000.000000   \n",
       "\n",
       "       registrationmonth  numberofpictures     postalcode  \n",
       "count      354369.000000          354369.0  354369.000000  \n",
       "mean            5.714645               0.0   50508.689087  \n",
       "std             3.726421               0.0   25783.096248  \n",
       "min             0.000000               0.0    1067.000000  \n",
       "25%             3.000000               0.0   30165.000000  \n",
       "50%             6.000000               0.0   49413.000000  \n",
       "75%             9.000000               0.0   71083.000000  \n",
       "max            12.000000               0.0   99998.000000  "
      ]
     },
     "execution_count": 11,
     "metadata": {},
     "output_type": "execute_result"
    }
   ],
   "source": [
    "#Informacion descriptiva del dataset\n",
    "df.describe()"
   ]
  },
  {
   "cell_type": "code",
   "execution_count": 12,
   "metadata": {},
   "outputs": [
    {
     "data": {
      "image/png": "[encoded data removed]",
      "text/plain": [
       "<Figure size 640x480 with 1 Axes>"
      ]
     },
     "metadata": {},
     "output_type": "display_data"
    }
   ],
   "source": [
    "#revision de outliers del campo registrationyear\n",
    "df[['registrationyear']].boxplot()\n",
    "plt.title(f'Boxplot de año de registro')\n",
    "plt.show()"
   ]
  },
  {
   "cell_type": "code",
   "execution_count": 13,
   "metadata": {
    "scrolled": true
   },
   "outputs": [
    {
     "data": {
      "image/png": "[encoded data removed]",
      "text/plain": [
       "<Figure size 640x480 with 1 Axes>"
      ]
     },
     "metadata": {},
     "output_type": "display_data"
    }
   ],
   "source": [
    "#revision de outliers del campo power\n",
    "df[['power']].boxplot()\n",
    "plt.title(f'Boxplot de potencia')\n",
    "plt.show()"
   ]
  },
  {
   "cell_type": "markdown",
   "metadata": {},
   "source": [
    "Se pueden observar que a nivel de años de registro, existen incongruencias ya que los años datan de años en el futuro\n",
    "\n",
    "Por otra parte, la potencia de los motores también no se ven lógicos, ya que ciertos valores están completamente disparados y fuera de la realidad\n",
    "\n",
    "Para corregir estos datos, usarmemos el valor de la mediana para reemplazar los valores del campo registrationyear y para el campo power, usaremos el valor promedio de la muestra."
   ]
  },
  {
   "cell_type": "code",
   "execution_count": 14,
   "metadata": {},
   "outputs": [
    {
     "name": "stdout",
     "output_type": "stream",
     "text": [
      "2003\n",
      "110\n"
     ]
    }
   ],
   "source": [
    "#Crea los valores de las variables con los valores que reemplazaran los valores atipicos\n",
    "registration_mediana = int(df['registrationyear'].median())\n",
    "print(registration_mediana)\n",
    "power_promedio = int(round(df['power'].mean(),0))\n",
    "print(power_promedio)"
   ]
  },
  {
   "cell_type": "code",
   "execution_count": 15,
   "metadata": {
    "scrolled": true
   },
   "outputs": [
    {
     "data": {
      "text/plain": [
       "array([1000, 1001, 1039, 1111, 1200, 1234, 1253, 1255, 1300, 1400, 1500,\n",
       "       1600, 1602, 1688, 1800, 1910, 1915, 1919, 1920, 1923, 1925, 1927,\n",
       "       1928, 1929, 1930, 1931, 1932, 1933, 1934, 1935, 1936, 1937, 1938,\n",
       "       1940, 1941, 1942, 1943, 1944, 1945, 1946, 1947, 1948, 1949, 1950,\n",
       "       1951, 1952, 1953, 1954, 1955, 1956, 1957, 1958, 1959, 1960, 1961,\n",
       "       1962, 1963, 1964, 1965, 1966, 1967, 1968, 1969, 1970, 1971, 1972,\n",
       "       1973, 1974, 1975, 1976, 1977, 1978, 1979, 1980, 1981, 1982, 1983,\n",
       "       1984, 1985, 1986, 1987, 1988, 1989, 1990, 1991, 1992, 1993, 1994,\n",
       "       1995, 1996, 1997, 1998, 1999, 2000, 2001, 2002, 2003, 2004, 2005,\n",
       "       2006, 2007, 2008, 2009, 2010, 2011, 2012, 2013, 2014, 2015, 2016,\n",
       "       2017, 2018, 2019, 2066, 2200, 2222, 2290, 2500, 2800, 2900, 3000,\n",
       "       3200, 3500, 3700, 3800, 4000, 4100, 4500, 4800, 5000, 5300, 5555,\n",
       "       5600, 5900, 5911, 6000, 6500, 7000, 7100, 7500, 7800, 8000, 8200,\n",
       "       8455, 8500, 8888, 9000, 9229, 9450, 9996, 9999])"
      ]
     },
     "execution_count": 15,
     "metadata": {},
     "output_type": "execute_result"
    }
   ],
   "source": [
    "#Revisamos los valores de registrationyear para determinar los atipicos\n",
    "df['registrationyear'].sort_values(ascending=True).unique()"
   ]
  },
  {
   "cell_type": "markdown",
   "metadata": {},
   "source": [
    "Para reemplazar los valores, se ha determinado que los primeros autos aparecieron en 1886, asi que los valores menores a este año serán reemplazdos y los posteriores al 2024 también "
   ]
  },
  {
   "cell_type": "code",
   "execution_count": 16,
   "metadata": {
    "scrolled": false
   },
   "outputs": [
    {
     "data": {
      "image/png": "[encoded data removed]",
      "text/plain": [
       "<Figure size 640x480 with 1 Axes>"
      ]
     },
     "metadata": {},
     "output_type": "display_data"
    }
   ],
   "source": [
    "#Reemplazamos los valores de registrationyear\n",
    "df.loc[df['registrationyear'] <= 1886,'registrationyear'] = registration_mediana\n",
    "df.loc[df['registrationyear'] > 2024,'registrationyear'] = registration_mediana \n",
    "\n",
    "df[['registrationyear']].boxplot()\n",
    "plt.show()"
   ]
  },
  {
   "cell_type": "code",
   "execution_count": 17,
   "metadata": {},
   "outputs": [
    {
     "name": "stdout",
     "output_type": "stream",
     "text": [
      "[    0     1     2     3     4     5     6     7     8     9    10    11\n",
      "    12    13    14    15    16    17    18    19    20    21    22    23\n",
      "    24    25    26    27    28    29    30    31    32    33    34    35\n",
      "    36    37    38    39    40    41    42    43    44    45    46    47\n",
      "    48    49    50    51    52    53    54    55    56    57    58    59\n",
      "    60    61    62    63    64    65    66    67    68    69    70    71\n",
      "    72    73    74    75    76    77    78    79    80    81    82    83\n",
      "    84    85    86    87    88    89    90    91    92    93    94    95\n",
      "    96    97    98    99   100   101   102   103   104   105   106   107\n",
      "   108   109   110   111   112   113   114   115   116   117   118   119\n",
      "   120   121   122   123   124   125   126   127   128   129   130   131\n",
      "   132   133   134   135   136   137   138   139   140   141   142   143\n",
      "   144   145   146   147   148   149   150   151   152   153   154   155\n",
      "   156   157   158   159   160   161   162   163   164   165   166   167\n",
      "   168   169   170   171   172   173   174   175   176   177   178   179\n",
      "   180   181   182   183   184   185   186   187   188   189   190   191\n",
      "   192   193   194   195   196   197   198   199   200   201   202   203\n",
      "   204   205   206   207   208   209   210   211   212   213   214   215\n",
      "   216   217   218   219   220   221   222   223   224   225   226   227\n",
      "   228   229   230   231   232   233   234   235   236   237   238   239\n",
      "   240   241   242   243   244   245   246   247   248   249   250   251\n",
      "   252   253   254   255   256   257   258   259   260   261   262   264\n",
      "   265   266   267   268   269   270   271   272   273   274   275   276\n",
      "   277   278   279   280   281   282   283   284   285   286   287   288\n",
      "   289   290   292   293   294   295   296   297   298   299   300   301\n",
      "   303   304   305   306   307   308   309   310   311   313   314   315\n",
      "   316   317   318   320   321   322   323   324   325   326   327   328\n",
      "   329   330   331   332   333   334   335   336   337   338   339   340\n",
      "   341   343   344   345   346   347   348   349   350   351   352   353\n",
      "   354   355   356   357   358   360   361   362   363   364   365   367\n",
      "   368   370   371   374   375   376   377   379   380   381   382   385\n",
      "   386   387   388   390   392   394   396   398   399   400   401   402\n",
      "   405   408   409   411   416   420   421   425   426   428   430   431\n",
      "   435   440   442   445   449   450   454   457   459   460   475   476\n",
      "   485   487   489   490   500   504   505   507   508   510   514   515\n",
      "   517   519   520   521   525   530   540   541   544   550   551   553\n",
      "   560   572   574   579   580   584   585   599   600   601   602   603\n",
      "   604   606   607   610   612   620   640   645   650   651   671   678\n",
      "   682   685   696   700   702   703   732   743   750   751   754   771\n",
      "   776   800   805   808   850   851   871   900   901   902   903   907\n",
      "   909   923   950   952   953   960   998   999  1000  1001  1002  1003\n",
      "  1004  1005  1011  1012  1016  1017  1021  1024  1054  1055  1056  1062\n",
      "  1079  1082  1090  1100  1102  1103  1105  1111  1115  1120  1149  1151\n",
      "  1158  1160  1162  1164  1199  1200  1202  1221  1223  1230  1239  1240\n",
      "  1241  1250  1252  1256  1275  1288  1299  1300  1312  1317  1324  1339\n",
      "  1351  1360  1362  1363  1367  1390  1394  1398  1399  1400  1401  1403\n",
      "  1405  1416  1432  1433  1436  1500  1501  1502  1503  1506  1521  1548\n",
      "  1595  1596  1597  1598  1600  1625  1631  1653  1659  1689  1700  1701\n",
      "  1703  1704  1707  1753  1771  1779  1780  1781  1783  1793  1796  1799\n",
      "  1800  1801  1870  1895  1896  1900  1910  1920  1922  1933  1937  1968\n",
      "  1986  1988  1992  1993  1995  1998  1999  2000  2004  2005  2007  2009\n",
      "  2016  2017  2018  2172  2200  2201  2331  2340  2389  2402  2461  2598\n",
      "  2729  2789  2792  2799  3000  3199  3454  3500  3750  4400  4507  4700\n",
      "  5000  5411  5420  5575  5809  5815  5867  6006  6010  6011  6012  6018\n",
      "  6045  6062  6226  6512  6920  7508  7511  7512  7515  7518  7529  7544\n",
      "  8011  8259  8404  8500  9000  9007  9010  9011  9012  9013  9710 10000\n",
      " 10110 10218 10311 10317 10520 10522 10710 10910 10912 11011 11025 11111\n",
      " 11509 11530 11635 12012 12510 12512 12684 13616 13636 14009 15001 15016\n",
      " 15017 15020 15033 16011 16051 16311 16312 17011 17019 17410 17700 17932\n",
      " 19208 19211 19312 20000]\n"
     ]
    }
   ],
   "source": [
    "#Revisamos los valores de power\n",
    "print(df['power'].sort_values(ascending=True).unique())"
   ]
  },
  {
   "cell_type": "code",
   "execution_count": 18,
   "metadata": {
    "scrolled": true
   },
   "outputs": [
    {
     "data": {
      "text/plain": [
       "0        40225\n",
       "75       24023\n",
       "60       15897\n",
       "150      14590\n",
       "101      13298\n",
       "         ...  \n",
       "323          1\n",
       "3454         1\n",
       "1056         1\n",
       "13636        1\n",
       "1158         1\n",
       "Name: power, Length: 712, dtype: int64"
      ]
     },
     "execution_count": 18,
     "metadata": {},
     "output_type": "execute_result"
    }
   ],
   "source": [
    "#Verifica la cantidad de valores por potencia\n",
    "df['power'].value_counts()"
   ]
  },
  {
   "cell_type": "markdown",
   "metadata": {},
   "source": [
    "Se verifica que la potencia 0 se repite mucho y no es logico ese valor, por lo que debera ser reemplazado\n",
    "\n",
    "Si bien es cierto el Renault Twizy 45 tiene apenas 5 HP, para este analisis usaremos 30 HP como el minimo\n",
    "\n",
    "Para potencias maximas, existen vehiculos que poseen hasta 1.600 hps pero normalmente no estarian en un patio de autos, por lo que analizaremos un maximo de 650 HP\n",
    "\n",
    "Todos estos valores atipicos tanto en maximo como en minimo seran reemplazados por el promedio de la muestra"
   ]
  },
  {
   "cell_type": "code",
   "execution_count": 19,
   "metadata": {},
   "outputs": [
    {
     "data": {
      "image/png": "[encoded data removed]",
      "text/plain": [
       "<Figure size 640x480 with 1 Axes>"
      ]
     },
     "metadata": {},
     "output_type": "display_data"
    }
   ],
   "source": [
    "#Reemplazamos los valores de potencia\n",
    "df.loc[df['power'] <= 30,'power'] = power_promedio\n",
    "df.loc[df['power'] > 650,'power'] = power_promedio\n",
    "\n",
    "df[['power']].boxplot()\n",
    "plt.show()"
   ]
  },
  {
   "cell_type": "markdown",
   "metadata": {},
   "source": [
    "Consecuencia de los cambios realizados, se observan que la distribucion de los valores de los campos intervenidos ahora son mas coherentes y no daran conclusiones erradas mas adelante.\n",
    "\n",
    "Ahora que los datos han sido revisados se procede con el entrenamiento del modelo"
   ]
  },
  {
   "cell_type": "markdown",
   "metadata": {},
   "source": [
    "<div class=\"alert alert-block alert-success\">\n",
    "<b>Comentario del revisor (1ra Iteracion)</b> <a class=“tocSkip”></a>\n",
    "\n",
    "Buen trabajo con la preparación de los datos previo al entrenamiento del modelo! Aplicaste diferentes pero correctos procesos para tener un dataset más completo previo al entrenamiento. Te recomendaría que agregues tu interpretación un poco más detallada de los datos revisados y tratándose de un proyecto de ML también puedes enfocarte en interpretar en como estos datos pueden afectar los modelos\n",
    "</div>"
   ]
  },
  {
   "cell_type": "markdown",
   "metadata": {},
   "source": [
    "## Entrenamiento del modelo "
   ]
  },
  {
   "cell_type": "markdown",
   "metadata": {},
   "source": [
    "Dado que se tienen 2 tipos de variables en el dataset, se generaran dos listas, una que contenga variables categoricas y otra con variables numericas.\n",
    "\n",
    "Variables como dates, registrationmonth, numberofpicstures, postalcode no se tomaran en cuenta en este analisis ya que no generan valor."
   ]
  },
  {
   "cell_type": "code",
   "execution_count": 20,
   "metadata": {},
   "outputs": [],
   "source": [
    "#Lista de variables\n",
    "\n",
    "features_cat = ['vehicletype', 'gearbox','model', 'fueltype', 'brand',\n",
    "       'notrepaired']\n",
    "features = ['registrationyear','power', 'mileage']\n",
    "target = 'price'"
   ]
  },
  {
   "cell_type": "code",
   "execution_count": 21,
   "metadata": {},
   "outputs": [
    {
     "data": {
      "text/plain": [
       "0           480\n",
       "1         18300\n",
       "2          9800\n",
       "3          1500\n",
       "4          3600\n",
       "          ...  \n",
       "354364        0\n",
       "354365     2200\n",
       "354366     1199\n",
       "354367     9200\n",
       "354368     3400\n",
       "Name: price, Length: 354369, dtype: int64"
      ]
     },
     "execution_count": 21,
     "metadata": {},
     "output_type": "execute_result"
    }
   ],
   "source": [
    "df_target = df[target]\n",
    "\n",
    "df_target"
   ]
  },
  {
   "cell_type": "code",
   "execution_count": 24,
   "metadata": {
    "scrolled": true
   },
   "outputs": [
    {
     "data": {
      "text/html": [
       "<div>\n",
       "<style scoped>\n",
       "    .dataframe tbody tr th:only-of-type {\n",
       "        vertical-align: middle;\n",
       "    }\n",
       "\n",
       "    .dataframe tbody tr th {\n",
       "        vertical-align: top;\n",
       "    }\n",
       "\n",
       "    .dataframe thead th {\n",
       "        text-align: right;\n",
       "    }\n",
       "</style>\n",
       "<table border=\"1\" class=\"dataframe\">\n",
       "  <thead>\n",
       "    <tr style=\"text-align: right;\">\n",
       "      <th></th>\n",
       "      <th>x0_bus</th>\n",
       "      <th>x0_convertible</th>\n",
       "      <th>x0_coupe</th>\n",
       "      <th>x0_other</th>\n",
       "      <th>x0_sedan</th>\n",
       "      <th>x0_small</th>\n",
       "      <th>x0_suv</th>\n",
       "      <th>x0_wagon</th>\n",
       "      <th>x0_nan</th>\n",
       "      <th>x1_auto</th>\n",
       "      <th>...</th>\n",
       "      <th>x4_sonstige_autos</th>\n",
       "      <th>x4_subaru</th>\n",
       "      <th>x4_suzuki</th>\n",
       "      <th>x4_toyota</th>\n",
       "      <th>x4_trabant</th>\n",
       "      <th>x4_volkswagen</th>\n",
       "      <th>x4_volvo</th>\n",
       "      <th>x5_no</th>\n",
       "      <th>x5_unknown</th>\n",
       "      <th>x5_yes</th>\n",
       "    </tr>\n",
       "  </thead>\n",
       "  <tbody>\n",
       "    <tr>\n",
       "      <th>0</th>\n",
       "      <td>0.0</td>\n",
       "      <td>0.0</td>\n",
       "      <td>0.0</td>\n",
       "      <td>0.0</td>\n",
       "      <td>0.0</td>\n",
       "      <td>0.0</td>\n",
       "      <td>0.0</td>\n",
       "      <td>0.0</td>\n",
       "      <td>1.0</td>\n",
       "      <td>0.0</td>\n",
       "      <td>...</td>\n",
       "      <td>0.0</td>\n",
       "      <td>0.0</td>\n",
       "      <td>0.0</td>\n",
       "      <td>0.0</td>\n",
       "      <td>0.0</td>\n",
       "      <td>1.0</td>\n",
       "      <td>0.0</td>\n",
       "      <td>0.0</td>\n",
       "      <td>1.0</td>\n",
       "      <td>0.0</td>\n",
       "    </tr>\n",
       "    <tr>\n",
       "      <th>1</th>\n",
       "      <td>0.0</td>\n",
       "      <td>0.0</td>\n",
       "      <td>1.0</td>\n",
       "      <td>0.0</td>\n",
       "      <td>0.0</td>\n",
       "      <td>0.0</td>\n",
       "      <td>0.0</td>\n",
       "      <td>0.0</td>\n",
       "      <td>0.0</td>\n",
       "      <td>0.0</td>\n",
       "      <td>...</td>\n",
       "      <td>0.0</td>\n",
       "      <td>0.0</td>\n",
       "      <td>0.0</td>\n",
       "      <td>0.0</td>\n",
       "      <td>0.0</td>\n",
       "      <td>0.0</td>\n",
       "      <td>0.0</td>\n",
       "      <td>0.0</td>\n",
       "      <td>0.0</td>\n",
       "      <td>1.0</td>\n",
       "    </tr>\n",
       "    <tr>\n",
       "      <th>2</th>\n",
       "      <td>0.0</td>\n",
       "      <td>0.0</td>\n",
       "      <td>0.0</td>\n",
       "      <td>0.0</td>\n",
       "      <td>0.0</td>\n",
       "      <td>0.0</td>\n",
       "      <td>1.0</td>\n",
       "      <td>0.0</td>\n",
       "      <td>0.0</td>\n",
       "      <td>1.0</td>\n",
       "      <td>...</td>\n",
       "      <td>0.0</td>\n",
       "      <td>0.0</td>\n",
       "      <td>0.0</td>\n",
       "      <td>0.0</td>\n",
       "      <td>0.0</td>\n",
       "      <td>0.0</td>\n",
       "      <td>0.0</td>\n",
       "      <td>0.0</td>\n",
       "      <td>1.0</td>\n",
       "      <td>0.0</td>\n",
       "    </tr>\n",
       "    <tr>\n",
       "      <th>3</th>\n",
       "      <td>0.0</td>\n",
       "      <td>0.0</td>\n",
       "      <td>0.0</td>\n",
       "      <td>0.0</td>\n",
       "      <td>0.0</td>\n",
       "      <td>1.0</td>\n",
       "      <td>0.0</td>\n",
       "      <td>0.0</td>\n",
       "      <td>0.0</td>\n",
       "      <td>0.0</td>\n",
       "      <td>...</td>\n",
       "      <td>0.0</td>\n",
       "      <td>0.0</td>\n",
       "      <td>0.0</td>\n",
       "      <td>0.0</td>\n",
       "      <td>0.0</td>\n",
       "      <td>1.0</td>\n",
       "      <td>0.0</td>\n",
       "      <td>1.0</td>\n",
       "      <td>0.0</td>\n",
       "      <td>0.0</td>\n",
       "    </tr>\n",
       "    <tr>\n",
       "      <th>4</th>\n",
       "      <td>0.0</td>\n",
       "      <td>0.0</td>\n",
       "      <td>0.0</td>\n",
       "      <td>0.0</td>\n",
       "      <td>0.0</td>\n",
       "      <td>1.0</td>\n",
       "      <td>0.0</td>\n",
       "      <td>0.0</td>\n",
       "      <td>0.0</td>\n",
       "      <td>0.0</td>\n",
       "      <td>...</td>\n",
       "      <td>0.0</td>\n",
       "      <td>0.0</td>\n",
       "      <td>0.0</td>\n",
       "      <td>0.0</td>\n",
       "      <td>0.0</td>\n",
       "      <td>0.0</td>\n",
       "      <td>0.0</td>\n",
       "      <td>1.0</td>\n",
       "      <td>0.0</td>\n",
       "      <td>0.0</td>\n",
       "    </tr>\n",
       "    <tr>\n",
       "      <th>...</th>\n",
       "      <td>...</td>\n",
       "      <td>...</td>\n",
       "      <td>...</td>\n",
       "      <td>...</td>\n",
       "      <td>...</td>\n",
       "      <td>...</td>\n",
       "      <td>...</td>\n",
       "      <td>...</td>\n",
       "      <td>...</td>\n",
       "      <td>...</td>\n",
       "      <td>...</td>\n",
       "      <td>...</td>\n",
       "      <td>...</td>\n",
       "      <td>...</td>\n",
       "      <td>...</td>\n",
       "      <td>...</td>\n",
       "      <td>...</td>\n",
       "      <td>...</td>\n",
       "      <td>...</td>\n",
       "      <td>...</td>\n",
       "      <td>...</td>\n",
       "    </tr>\n",
       "    <tr>\n",
       "      <th>354364</th>\n",
       "      <td>0.0</td>\n",
       "      <td>0.0</td>\n",
       "      <td>0.0</td>\n",
       "      <td>0.0</td>\n",
       "      <td>0.0</td>\n",
       "      <td>0.0</td>\n",
       "      <td>0.0</td>\n",
       "      <td>0.0</td>\n",
       "      <td>1.0</td>\n",
       "      <td>0.0</td>\n",
       "      <td>...</td>\n",
       "      <td>0.0</td>\n",
       "      <td>0.0</td>\n",
       "      <td>0.0</td>\n",
       "      <td>0.0</td>\n",
       "      <td>0.0</td>\n",
       "      <td>0.0</td>\n",
       "      <td>0.0</td>\n",
       "      <td>0.0</td>\n",
       "      <td>0.0</td>\n",
       "      <td>1.0</td>\n",
       "    </tr>\n",
       "    <tr>\n",
       "      <th>354365</th>\n",
       "      <td>0.0</td>\n",
       "      <td>0.0</td>\n",
       "      <td>0.0</td>\n",
       "      <td>0.0</td>\n",
       "      <td>0.0</td>\n",
       "      <td>0.0</td>\n",
       "      <td>0.0</td>\n",
       "      <td>0.0</td>\n",
       "      <td>1.0</td>\n",
       "      <td>0.0</td>\n",
       "      <td>...</td>\n",
       "      <td>1.0</td>\n",
       "      <td>0.0</td>\n",
       "      <td>0.0</td>\n",
       "      <td>0.0</td>\n",
       "      <td>0.0</td>\n",
       "      <td>0.0</td>\n",
       "      <td>0.0</td>\n",
       "      <td>0.0</td>\n",
       "      <td>1.0</td>\n",
       "      <td>0.0</td>\n",
       "    </tr>\n",
       "    <tr>\n",
       "      <th>354366</th>\n",
       "      <td>0.0</td>\n",
       "      <td>1.0</td>\n",
       "      <td>0.0</td>\n",
       "      <td>0.0</td>\n",
       "      <td>0.0</td>\n",
       "      <td>0.0</td>\n",
       "      <td>0.0</td>\n",
       "      <td>0.0</td>\n",
       "      <td>0.0</td>\n",
       "      <td>1.0</td>\n",
       "      <td>...</td>\n",
       "      <td>0.0</td>\n",
       "      <td>0.0</td>\n",
       "      <td>0.0</td>\n",
       "      <td>0.0</td>\n",
       "      <td>0.0</td>\n",
       "      <td>0.0</td>\n",
       "      <td>0.0</td>\n",
       "      <td>1.0</td>\n",
       "      <td>0.0</td>\n",
       "      <td>0.0</td>\n",
       "    </tr>\n",
       "    <tr>\n",
       "      <th>354367</th>\n",
       "      <td>1.0</td>\n",
       "      <td>0.0</td>\n",
       "      <td>0.0</td>\n",
       "      <td>0.0</td>\n",
       "      <td>0.0</td>\n",
       "      <td>0.0</td>\n",
       "      <td>0.0</td>\n",
       "      <td>0.0</td>\n",
       "      <td>0.0</td>\n",
       "      <td>0.0</td>\n",
       "      <td>...</td>\n",
       "      <td>0.0</td>\n",
       "      <td>0.0</td>\n",
       "      <td>0.0</td>\n",
       "      <td>0.0</td>\n",
       "      <td>0.0</td>\n",
       "      <td>1.0</td>\n",
       "      <td>0.0</td>\n",
       "      <td>1.0</td>\n",
       "      <td>0.0</td>\n",
       "      <td>0.0</td>\n",
       "    </tr>\n",
       "    <tr>\n",
       "      <th>354368</th>\n",
       "      <td>0.0</td>\n",
       "      <td>0.0</td>\n",
       "      <td>0.0</td>\n",
       "      <td>0.0</td>\n",
       "      <td>0.0</td>\n",
       "      <td>0.0</td>\n",
       "      <td>0.0</td>\n",
       "      <td>1.0</td>\n",
       "      <td>0.0</td>\n",
       "      <td>0.0</td>\n",
       "      <td>...</td>\n",
       "      <td>0.0</td>\n",
       "      <td>0.0</td>\n",
       "      <td>0.0</td>\n",
       "      <td>0.0</td>\n",
       "      <td>0.0</td>\n",
       "      <td>1.0</td>\n",
       "      <td>0.0</td>\n",
       "      <td>0.0</td>\n",
       "      <td>1.0</td>\n",
       "      <td>0.0</td>\n",
       "    </tr>\n",
       "  </tbody>\n",
       "</table>\n",
       "<p>354369 rows × 314 columns</p>\n",
       "</div>"
      ],
      "text/plain": [
       "        x0_bus  x0_convertible  x0_coupe  x0_other  x0_sedan  x0_small  \\\n",
       "0          0.0             0.0       0.0       0.0       0.0       0.0   \n",
       "1          0.0             0.0       1.0       0.0       0.0       0.0   \n",
       "2          0.0             0.0       0.0       0.0       0.0       0.0   \n",
       "3          0.0             0.0       0.0       0.0       0.0       1.0   \n",
       "4          0.0             0.0       0.0       0.0       0.0       1.0   \n",
       "...        ...             ...       ...       ...       ...       ...   \n",
       "354364     0.0             0.0       0.0       0.0       0.0       0.0   \n",
       "354365     0.0             0.0       0.0       0.0       0.0       0.0   \n",
       "354366     0.0             1.0       0.0       0.0       0.0       0.0   \n",
       "354367     1.0             0.0       0.0       0.0       0.0       0.0   \n",
       "354368     0.0             0.0       0.0       0.0       0.0       0.0   \n",
       "\n",
       "        x0_suv  x0_wagon  x0_nan  x1_auto  ...  x4_sonstige_autos  x4_subaru  \\\n",
       "0          0.0       0.0     1.0      0.0  ...                0.0        0.0   \n",
       "1          0.0       0.0     0.0      0.0  ...                0.0        0.0   \n",
       "2          1.0       0.0     0.0      1.0  ...                0.0        0.0   \n",
       "3          0.0       0.0     0.0      0.0  ...                0.0        0.0   \n",
       "4          0.0       0.0     0.0      0.0  ...                0.0        0.0   \n",
       "...        ...       ...     ...      ...  ...                ...        ...   \n",
       "354364     0.0       0.0     1.0      0.0  ...                0.0        0.0   \n",
       "354365     0.0       0.0     1.0      0.0  ...                1.0        0.0   \n",
       "354366     0.0       0.0     0.0      1.0  ...                0.0        0.0   \n",
       "354367     0.0       0.0     0.0      0.0  ...                0.0        0.0   \n",
       "354368     0.0       1.0     0.0      0.0  ...                0.0        0.0   \n",
       "\n",
       "        x4_suzuki  x4_toyota  x4_trabant  x4_volkswagen  x4_volvo  x5_no  \\\n",
       "0             0.0        0.0         0.0            1.0       0.0    0.0   \n",
       "1             0.0        0.0         0.0            0.0       0.0    0.0   \n",
       "2             0.0        0.0         0.0            0.0       0.0    0.0   \n",
       "3             0.0        0.0         0.0            1.0       0.0    1.0   \n",
       "4             0.0        0.0         0.0            0.0       0.0    1.0   \n",
       "...           ...        ...         ...            ...       ...    ...   \n",
       "354364        0.0        0.0         0.0            0.0       0.0    0.0   \n",
       "354365        0.0        0.0         0.0            0.0       0.0    0.0   \n",
       "354366        0.0        0.0         0.0            0.0       0.0    1.0   \n",
       "354367        0.0        0.0         0.0            1.0       0.0    1.0   \n",
       "354368        0.0        0.0         0.0            1.0       0.0    0.0   \n",
       "\n",
       "        x5_unknown  x5_yes  \n",
       "0              1.0     0.0  \n",
       "1              0.0     1.0  \n",
       "2              1.0     0.0  \n",
       "3              0.0     0.0  \n",
       "4              0.0     0.0  \n",
       "...            ...     ...  \n",
       "354364         0.0     1.0  \n",
       "354365         1.0     0.0  \n",
       "354366         0.0     0.0  \n",
       "354367         0.0     0.0  \n",
       "354368         1.0     0.0  \n",
       "\n",
       "[354369 rows x 314 columns]"
      ]
     },
     "execution_count": 24,
     "metadata": {},
     "output_type": "execute_result"
    }
   ],
   "source": [
    "#Usamos OneHotEncoding para las variables categoricas\n",
    "\n",
    "ohe = OneHotEncoder(sparse = False, drop='if_binary')\n",
    "\n",
    "df_ohe = pd.DataFrame(ohe.fit_transform(df[features_cat]), columns = ohe.get_feature_names())\n",
    "\n",
    "df_ohe"
   ]
  },
  {
   "cell_type": "markdown",
   "metadata": {},
   "source": [
    "<div class=\"alert alert-block alert-warning\">\n",
    "<b>Comentario del revisor (1ra Iteracion)</b> <a class=“tocSkip”></a>\n",
    "\n",
    "Ten cuidado con el uso de OHE, antes de aplicarlo deberías hacer un estudio de las columnas (características o features) e ir tomando las que más valor aporten, si te das cuenta has generado muchas columnas lo que hace que los modelos en cuanto a tiempos de entrenamiento sean muy tardados\n",
    "</div>"
   ]
  },
  {
   "cell_type": "code",
   "execution_count": 26,
   "metadata": {
    "scrolled": true
   },
   "outputs": [
    {
     "data": {
      "text/html": [
       "<div>\n",
       "<style scoped>\n",
       "    .dataframe tbody tr th:only-of-type {\n",
       "        vertical-align: middle;\n",
       "    }\n",
       "\n",
       "    .dataframe tbody tr th {\n",
       "        vertical-align: top;\n",
       "    }\n",
       "\n",
       "    .dataframe thead th {\n",
       "        text-align: right;\n",
       "    }\n",
       "</style>\n",
       "<table border=\"1\" class=\"dataframe\">\n",
       "  <thead>\n",
       "    <tr style=\"text-align: right;\">\n",
       "      <th></th>\n",
       "      <th>registrationyear</th>\n",
       "      <th>power</th>\n",
       "      <th>mileage</th>\n",
       "      <th>x0_bus</th>\n",
       "      <th>x0_convertible</th>\n",
       "      <th>x0_coupe</th>\n",
       "      <th>x0_other</th>\n",
       "      <th>x0_sedan</th>\n",
       "      <th>x0_small</th>\n",
       "      <th>x0_suv</th>\n",
       "      <th>...</th>\n",
       "      <th>x4_sonstige_autos</th>\n",
       "      <th>x4_subaru</th>\n",
       "      <th>x4_suzuki</th>\n",
       "      <th>x4_toyota</th>\n",
       "      <th>x4_trabant</th>\n",
       "      <th>x4_volkswagen</th>\n",
       "      <th>x4_volvo</th>\n",
       "      <th>x5_no</th>\n",
       "      <th>x5_unknown</th>\n",
       "      <th>x5_yes</th>\n",
       "    </tr>\n",
       "  </thead>\n",
       "  <tbody>\n",
       "    <tr>\n",
       "      <th>0</th>\n",
       "      <td>1993</td>\n",
       "      <td>110</td>\n",
       "      <td>150000</td>\n",
       "      <td>0.0</td>\n",
       "      <td>0.0</td>\n",
       "      <td>0.0</td>\n",
       "      <td>0.0</td>\n",
       "      <td>0.0</td>\n",
       "      <td>0.0</td>\n",
       "      <td>0.0</td>\n",
       "      <td>...</td>\n",
       "      <td>0.0</td>\n",
       "      <td>0.0</td>\n",
       "      <td>0.0</td>\n",
       "      <td>0.0</td>\n",
       "      <td>0.0</td>\n",
       "      <td>1.0</td>\n",
       "      <td>0.0</td>\n",
       "      <td>0.0</td>\n",
       "      <td>1.0</td>\n",
       "      <td>0.0</td>\n",
       "    </tr>\n",
       "    <tr>\n",
       "      <th>1</th>\n",
       "      <td>2011</td>\n",
       "      <td>190</td>\n",
       "      <td>125000</td>\n",
       "      <td>0.0</td>\n",
       "      <td>0.0</td>\n",
       "      <td>1.0</td>\n",
       "      <td>0.0</td>\n",
       "      <td>0.0</td>\n",
       "      <td>0.0</td>\n",
       "      <td>0.0</td>\n",
       "      <td>...</td>\n",
       "      <td>0.0</td>\n",
       "      <td>0.0</td>\n",
       "      <td>0.0</td>\n",
       "      <td>0.0</td>\n",
       "      <td>0.0</td>\n",
       "      <td>0.0</td>\n",
       "      <td>0.0</td>\n",
       "      <td>0.0</td>\n",
       "      <td>0.0</td>\n",
       "      <td>1.0</td>\n",
       "    </tr>\n",
       "    <tr>\n",
       "      <th>2</th>\n",
       "      <td>2004</td>\n",
       "      <td>163</td>\n",
       "      <td>125000</td>\n",
       "      <td>0.0</td>\n",
       "      <td>0.0</td>\n",
       "      <td>0.0</td>\n",
       "      <td>0.0</td>\n",
       "      <td>0.0</td>\n",
       "      <td>0.0</td>\n",
       "      <td>1.0</td>\n",
       "      <td>...</td>\n",
       "      <td>0.0</td>\n",
       "      <td>0.0</td>\n",
       "      <td>0.0</td>\n",
       "      <td>0.0</td>\n",
       "      <td>0.0</td>\n",
       "      <td>0.0</td>\n",
       "      <td>0.0</td>\n",
       "      <td>0.0</td>\n",
       "      <td>1.0</td>\n",
       "      <td>0.0</td>\n",
       "    </tr>\n",
       "    <tr>\n",
       "      <th>3</th>\n",
       "      <td>2001</td>\n",
       "      <td>75</td>\n",
       "      <td>150000</td>\n",
       "      <td>0.0</td>\n",
       "      <td>0.0</td>\n",
       "      <td>0.0</td>\n",
       "      <td>0.0</td>\n",
       "      <td>0.0</td>\n",
       "      <td>1.0</td>\n",
       "      <td>0.0</td>\n",
       "      <td>...</td>\n",
       "      <td>0.0</td>\n",
       "      <td>0.0</td>\n",
       "      <td>0.0</td>\n",
       "      <td>0.0</td>\n",
       "      <td>0.0</td>\n",
       "      <td>1.0</td>\n",
       "      <td>0.0</td>\n",
       "      <td>1.0</td>\n",
       "      <td>0.0</td>\n",
       "      <td>0.0</td>\n",
       "    </tr>\n",
       "    <tr>\n",
       "      <th>4</th>\n",
       "      <td>2008</td>\n",
       "      <td>69</td>\n",
       "      <td>90000</td>\n",
       "      <td>0.0</td>\n",
       "      <td>0.0</td>\n",
       "      <td>0.0</td>\n",
       "      <td>0.0</td>\n",
       "      <td>0.0</td>\n",
       "      <td>1.0</td>\n",
       "      <td>0.0</td>\n",
       "      <td>...</td>\n",
       "      <td>0.0</td>\n",
       "      <td>0.0</td>\n",
       "      <td>0.0</td>\n",
       "      <td>0.0</td>\n",
       "      <td>0.0</td>\n",
       "      <td>0.0</td>\n",
       "      <td>0.0</td>\n",
       "      <td>1.0</td>\n",
       "      <td>0.0</td>\n",
       "      <td>0.0</td>\n",
       "    </tr>\n",
       "    <tr>\n",
       "      <th>...</th>\n",
       "      <td>...</td>\n",
       "      <td>...</td>\n",
       "      <td>...</td>\n",
       "      <td>...</td>\n",
       "      <td>...</td>\n",
       "      <td>...</td>\n",
       "      <td>...</td>\n",
       "      <td>...</td>\n",
       "      <td>...</td>\n",
       "      <td>...</td>\n",
       "      <td>...</td>\n",
       "      <td>...</td>\n",
       "      <td>...</td>\n",
       "      <td>...</td>\n",
       "      <td>...</td>\n",
       "      <td>...</td>\n",
       "      <td>...</td>\n",
       "      <td>...</td>\n",
       "      <td>...</td>\n",
       "      <td>...</td>\n",
       "      <td>...</td>\n",
       "    </tr>\n",
       "    <tr>\n",
       "      <th>354364</th>\n",
       "      <td>2005</td>\n",
       "      <td>110</td>\n",
       "      <td>150000</td>\n",
       "      <td>0.0</td>\n",
       "      <td>0.0</td>\n",
       "      <td>0.0</td>\n",
       "      <td>0.0</td>\n",
       "      <td>0.0</td>\n",
       "      <td>0.0</td>\n",
       "      <td>0.0</td>\n",
       "      <td>...</td>\n",
       "      <td>0.0</td>\n",
       "      <td>0.0</td>\n",
       "      <td>0.0</td>\n",
       "      <td>0.0</td>\n",
       "      <td>0.0</td>\n",
       "      <td>0.0</td>\n",
       "      <td>0.0</td>\n",
       "      <td>0.0</td>\n",
       "      <td>0.0</td>\n",
       "      <td>1.0</td>\n",
       "    </tr>\n",
       "    <tr>\n",
       "      <th>354365</th>\n",
       "      <td>2005</td>\n",
       "      <td>110</td>\n",
       "      <td>20000</td>\n",
       "      <td>0.0</td>\n",
       "      <td>0.0</td>\n",
       "      <td>0.0</td>\n",
       "      <td>0.0</td>\n",
       "      <td>0.0</td>\n",
       "      <td>0.0</td>\n",
       "      <td>0.0</td>\n",
       "      <td>...</td>\n",
       "      <td>1.0</td>\n",
       "      <td>0.0</td>\n",
       "      <td>0.0</td>\n",
       "      <td>0.0</td>\n",
       "      <td>0.0</td>\n",
       "      <td>0.0</td>\n",
       "      <td>0.0</td>\n",
       "      <td>0.0</td>\n",
       "      <td>1.0</td>\n",
       "      <td>0.0</td>\n",
       "    </tr>\n",
       "    <tr>\n",
       "      <th>354366</th>\n",
       "      <td>2000</td>\n",
       "      <td>101</td>\n",
       "      <td>125000</td>\n",
       "      <td>0.0</td>\n",
       "      <td>1.0</td>\n",
       "      <td>0.0</td>\n",
       "      <td>0.0</td>\n",
       "      <td>0.0</td>\n",
       "      <td>0.0</td>\n",
       "      <td>0.0</td>\n",
       "      <td>...</td>\n",
       "      <td>0.0</td>\n",
       "      <td>0.0</td>\n",
       "      <td>0.0</td>\n",
       "      <td>0.0</td>\n",
       "      <td>0.0</td>\n",
       "      <td>0.0</td>\n",
       "      <td>0.0</td>\n",
       "      <td>1.0</td>\n",
       "      <td>0.0</td>\n",
       "      <td>0.0</td>\n",
       "    </tr>\n",
       "    <tr>\n",
       "      <th>354367</th>\n",
       "      <td>1996</td>\n",
       "      <td>102</td>\n",
       "      <td>150000</td>\n",
       "      <td>1.0</td>\n",
       "      <td>0.0</td>\n",
       "      <td>0.0</td>\n",
       "      <td>0.0</td>\n",
       "      <td>0.0</td>\n",
       "      <td>0.0</td>\n",
       "      <td>0.0</td>\n",
       "      <td>...</td>\n",
       "      <td>0.0</td>\n",
       "      <td>0.0</td>\n",
       "      <td>0.0</td>\n",
       "      <td>0.0</td>\n",
       "      <td>0.0</td>\n",
       "      <td>1.0</td>\n",
       "      <td>0.0</td>\n",
       "      <td>1.0</td>\n",
       "      <td>0.0</td>\n",
       "      <td>0.0</td>\n",
       "    </tr>\n",
       "    <tr>\n",
       "      <th>354368</th>\n",
       "      <td>2002</td>\n",
       "      <td>100</td>\n",
       "      <td>150000</td>\n",
       "      <td>0.0</td>\n",
       "      <td>0.0</td>\n",
       "      <td>0.0</td>\n",
       "      <td>0.0</td>\n",
       "      <td>0.0</td>\n",
       "      <td>0.0</td>\n",
       "      <td>0.0</td>\n",
       "      <td>...</td>\n",
       "      <td>0.0</td>\n",
       "      <td>0.0</td>\n",
       "      <td>0.0</td>\n",
       "      <td>0.0</td>\n",
       "      <td>0.0</td>\n",
       "      <td>1.0</td>\n",
       "      <td>0.0</td>\n",
       "      <td>0.0</td>\n",
       "      <td>1.0</td>\n",
       "      <td>0.0</td>\n",
       "    </tr>\n",
       "  </tbody>\n",
       "</table>\n",
       "<p>354369 rows × 317 columns</p>\n",
       "</div>"
      ],
      "text/plain": [
       "        registrationyear  power  mileage  x0_bus  x0_convertible  x0_coupe  \\\n",
       "0                   1993    110   150000     0.0             0.0       0.0   \n",
       "1                   2011    190   125000     0.0             0.0       1.0   \n",
       "2                   2004    163   125000     0.0             0.0       0.0   \n",
       "3                   2001     75   150000     0.0             0.0       0.0   \n",
       "4                   2008     69    90000     0.0             0.0       0.0   \n",
       "...                  ...    ...      ...     ...             ...       ...   \n",
       "354364              2005    110   150000     0.0             0.0       0.0   \n",
       "354365              2005    110    20000     0.0             0.0       0.0   \n",
       "354366              2000    101   125000     0.0             1.0       0.0   \n",
       "354367              1996    102   150000     1.0             0.0       0.0   \n",
       "354368              2002    100   150000     0.0             0.0       0.0   \n",
       "\n",
       "        x0_other  x0_sedan  x0_small  x0_suv  ...  x4_sonstige_autos  \\\n",
       "0            0.0       0.0       0.0     0.0  ...                0.0   \n",
       "1            0.0       0.0       0.0     0.0  ...                0.0   \n",
       "2            0.0       0.0       0.0     1.0  ...                0.0   \n",
       "3            0.0       0.0       1.0     0.0  ...                0.0   \n",
       "4            0.0       0.0       1.0     0.0  ...                0.0   \n",
       "...          ...       ...       ...     ...  ...                ...   \n",
       "354364       0.0       0.0       0.0     0.0  ...                0.0   \n",
       "354365       0.0       0.0       0.0     0.0  ...                1.0   \n",
       "354366       0.0       0.0       0.0     0.0  ...                0.0   \n",
       "354367       0.0       0.0       0.0     0.0  ...                0.0   \n",
       "354368       0.0       0.0       0.0     0.0  ...                0.0   \n",
       "\n",
       "        x4_subaru  x4_suzuki  x4_toyota  x4_trabant  x4_volkswagen  x4_volvo  \\\n",
       "0             0.0        0.0        0.0         0.0            1.0       0.0   \n",
       "1             0.0        0.0        0.0         0.0            0.0       0.0   \n",
       "2             0.0        0.0        0.0         0.0            0.0       0.0   \n",
       "3             0.0        0.0        0.0         0.0            1.0       0.0   \n",
       "4             0.0        0.0        0.0         0.0            0.0       0.0   \n",
       "...           ...        ...        ...         ...            ...       ...   \n",
       "354364        0.0        0.0        0.0         0.0            0.0       0.0   \n",
       "354365        0.0        0.0        0.0         0.0            0.0       0.0   \n",
       "354366        0.0        0.0        0.0         0.0            0.0       0.0   \n",
       "354367        0.0        0.0        0.0         0.0            1.0       0.0   \n",
       "354368        0.0        0.0        0.0         0.0            1.0       0.0   \n",
       "\n",
       "        x5_no  x5_unknown  x5_yes  \n",
       "0         0.0         1.0     0.0  \n",
       "1         0.0         0.0     1.0  \n",
       "2         0.0         1.0     0.0  \n",
       "3         1.0         0.0     0.0  \n",
       "4         1.0         0.0     0.0  \n",
       "...       ...         ...     ...  \n",
       "354364    0.0         0.0     1.0  \n",
       "354365    0.0         1.0     0.0  \n",
       "354366    1.0         0.0     0.0  \n",
       "354367    1.0         0.0     0.0  \n",
       "354368    0.0         1.0     0.0  \n",
       "\n",
       "[354369 rows x 317 columns]"
      ]
     },
     "execution_count": 26,
     "metadata": {},
     "output_type": "execute_result"
    }
   ],
   "source": [
    "#Unir datos codificados con las tablas de variables numericas\n",
    "\n",
    "concat_df = pd.concat([df[features].reset_index(drop=True),df_ohe],axis = 1)\n",
    "\n",
    "concat_df"
   ]
  },
  {
   "cell_type": "code",
   "execution_count": 27,
   "metadata": {},
   "outputs": [
    {
     "data": {
      "text/plain": [
       "registrationyear    0\n",
       "power               0\n",
       "mileage             0\n",
       "x0_bus              0\n",
       "x0_convertible      0\n",
       "                   ..\n",
       "x4_volkswagen       0\n",
       "x4_volvo            0\n",
       "x5_no               0\n",
       "x5_unknown          0\n",
       "x5_yes              0\n",
       "Length: 317, dtype: int64"
      ]
     },
     "execution_count": 27,
     "metadata": {},
     "output_type": "execute_result"
    }
   ],
   "source": [
    "#Se verifica que no existan valores ausentes\n",
    "\n",
    "concat_df.isna().sum()"
   ]
  },
  {
   "cell_type": "markdown",
   "metadata": {},
   "source": [
    "Ahora podemos escalar los datos "
   ]
  },
  {
   "cell_type": "markdown",
   "metadata": {},
   "source": [
    "\n",
    "## Análisis del modelo"
   ]
  },
  {
   "cell_type": "code",
   "execution_count": null,
   "metadata": {},
   "outputs": [],
   "source": [
    "#Escalamiento de los datos y separacion de datos de entrenamiento y prueba\n",
    "scaler = MaxAbsScaler()\n",
    "scaler.fit(concat_df[features])\n",
    "concat_df[features] = scaler.transform(concat_df[features])\n",
    "concat_df[features]\n",
    "features_train, features_valid, target_train, target_valid = train_test_split(concat_df, df_target, test_size=0.20, random_state=92)\n"
   ]
  },
  {
   "cell_type": "markdown",
   "metadata": {},
   "source": [
    "<div class=\"alert alert-block alert-success\">\n",
    "<b>Comentario del revisor (1ra Iteracion)</b> <a class=“tocSkip”></a>\n",
    "\n",
    "Perfecto! Ahora tienes los set de datos listos para el entrenamiento, además el escalado aplicado a los diferentes grupos de datos ayuda a prevenir el data leakage y así poder evaluar mejor tus modelos\n",
    "</div>"
   ]
  },
  {
   "cell_type": "markdown",
   "metadata": {},
   "source": [
    "Luego del escalamiento de los datos, estos estan listos para usarse para el entrenamiento de regresion lineal"
   ]
  },
  {
   "cell_type": "code",
   "execution_count": null,
   "metadata": {},
   "outputs": [],
   "source": [
    "#Entrenamiento del modelo\n",
    "\n",
    "#Se crea un dataframe de comparacion\n",
    "\n",
    "global_results = {'conjunto':[],\n",
    "                 'tipo':[],\n",
    "                 'modelo':[],\n",
    "                  'RECM':[],\n",
    "                 'tiempo_entrenamiento':[],\n",
    "                 'tiempo_prediccion':[]}\n",
    "global_results = pd.DataFrame(global_results)"
   ]
  },
  {
   "cell_type": "code",
   "execution_count": null,
   "metadata": {},
   "outputs": [],
   "source": [
    "def add_results(train_result,valid_result,time,timep,conjunto,model,table):\n",
    "    \"\"\"Con esta funcion agregaremos los valores del nombre y tipo de conjunto, su valor de RECM, el tiempo de procesamiento/entrenamiento,\n",
    "    y el tipo de modelo, con los siguientes argumentos\n",
    "    train_result: resultado de RECM conjunto entrenamiento\n",
    "    valid_result: resultado de RECM conjunto validacion\n",
    "    time: resultado del tiempo de procesamiento\n",
    "    conjunto: nombre del conjunto\n",
    "    model: tipo de modelo,\n",
    "    table: tabla a la que se agregaran los resultados\n",
    "    \"\"\"\n",
    "    row1 = pd.DataFrame({'conjunto':[conjunto],'tipo' : ['train'], 'modelo':[model],'RECM': [train_result],'tiempo_entrenamiento': [time],'tiempo_prediccion': [timep]})\n",
    "    row2 = pd.DataFrame({'conjunto':[conjunto],'tipo' : ['valid'], 'modelo':[model],'RECM': [valid_result],'tiempo_entrenamiento': [time],'tiempo_prediccion': [timep]})\n",
    "    table = pd.concat([table,row1,row2])\n",
    "    return table"
   ]
  },
  {
   "cell_type": "code",
   "execution_count": null,
   "metadata": {},
   "outputs": [],
   "source": [
    "#Regresion Lineal\n",
    "\n",
    "def linear_model(data,data_target):\n",
    "    \"\"\"Con esta funcion se realiza el entrenamiento, prediccion y puntuacion con RECM del modelo de regresion lineal, parametros:\n",
    "    data: conjunto de datos a utilizar\n",
    "    data_target: objetivo del conjunto\n",
    "    \n",
    "    \"\"\"\n",
    "   \n",
    "    start_time = time.time()\n",
    "    model = LinearRegression()\n",
    "    model.fit(features_train,target_train)\n",
    "    end_time = time.time()\n",
    "    training_time = round(end_time - start_time,2)\n",
    "    print('Tiempo de entrenamiento:', training_time,'segundos')\n",
    "    start_timep = time.time()\n",
    "    train_pred = model.predict(features_train)\n",
    "    valid_pred = model.predict(features_valid)\n",
    "    end_timep = time.time()\n",
    "    predict_time = round(end_timep - start_timep,2)\n",
    "    print('Tiempo de prediccion:', predict_time,'segundos')\n",
    "    #Prueba de cordura\n",
    "    cord_test = mean_squared_error(target_train,pd.Series(target_train.mean(),index=target_train),squared=False)\n",
    "    print('La prueba de cordura de la raiz del error cuadratico medio  para el conjunto de entrenamiento es:',cord_test)\n",
    "    cord_valid = mean_squared_error(target_valid,pd.Series(target_valid.mean(),index=target_valid),squared=False)\n",
    "    print('La prueba de cordura de la raiz del error cuadratico medio  para el conjunto de validación es:',cord_valid)\n",
    "    recm_train = mean_squared_error(target_train,train_pred,squared=False)\n",
    "    print('La raiz del error cuadratico medio del conjunto de entrenamiento es:',recm_train)\n",
    "    recm_valid = mean_squared_error(target_valid,valid_pred,squared=False)\n",
    "    print('La raiz del error cuadratico medio del conjunto de validación es:',recm_valid)\n",
    "   \n",
    "    return recm_train, recm_valid, training_time, predict_time\n",
    "\n",
    "\n"
   ]
  },
  {
   "cell_type": "code",
   "execution_count": null,
   "metadata": {},
   "outputs": [],
   "source": [
    "df_linear_train_result, df_linear_valid_result,df_linear_time,df_linear_timep = linear_model(concat_df,df_target)\n"
   ]
  },
  {
   "cell_type": "code",
   "execution_count": null,
   "metadata": {},
   "outputs": [],
   "source": [
    "global_results = add_results(df_linear_train_result, df_linear_valid_result,df_linear_time,df_linear_timep,'df','linear_regression',global_results)\n",
    "\n",
    "global_results"
   ]
  },
  {
   "cell_type": "code",
   "execution_count": null,
   "metadata": {},
   "outputs": [],
   "source": [
    "#Modelo Random Forest\n",
    "\n",
    "#Modelo Random Forest\n",
    "\n",
    "def random_model(data, data_target):\n",
    "    \"\"\"Con esta función se realiza el entrenamiento, predicción y puntuación con RECM del modelo de RandomForestRegressor.\n",
    "    Parámetros:\n",
    "    data: conjunto de datos a utilizar\n",
    "    data_target: objetivo del conjunto\n",
    "    \"\"\"\n",
    "    start_time = time.time()\n",
    "    model = RandomForestRegressor(n_estimators=50, max_depth=3, n_jobs=-1, random_state=92)\n",
    "    model.fit(features_train, target_train)\n",
    "    end_time = time.time()\n",
    "    training_time = round(end_time - start_time, 2)\n",
    "    print('Tiempo de entrenamiento:', training_time, 'segundos')\n",
    "    \n",
    "    start_timep = time.time()\n",
    "    train_pred = model.predict(features_train)\n",
    "    valid_pred = model.predict(features_valid)\n",
    "    end_timep = time.time()\n",
    "    predict_time = round(end_timep - start_timep, 2)\n",
    "    print('Tiempo de prediccion:', predict_time, 'segundos')\n",
    "    # Prueba de cordura\n",
    "    cord_test = mean_squared_error(target_train, pd.Series(target_train.mean(), index=target_train), squared=False)\n",
    "    print('La prueba de cordura de la raíz del error cuadrático medio para el conjunto de entrenamiento es:', cord_test)\n",
    "    cord_valid = mean_squared_error(target_valid, pd.Series(target_valid.mean(), index=target_valid), squared=False)\n",
    "    print('La prueba de cordura de la raíz del error cuadrático medio para el conjunto de validación es:', cord_valid)\n",
    "    \n",
    "    recm_train = mean_squared_error(target_train, train_pred, squared=False)\n",
    "    print('La raíz del error cuadrático medio del conjunto de entrenamiento es:', recm_train)\n",
    "    recm_valid = mean_squared_error(target_valid, valid_pred, squared=False)\n",
    "    print('La raíz del error cuadrático medio del conjunto de validación es:', recm_valid)\n",
    "   \n",
    "    return recm_train, recm_valid, training_time, predict_time\n",
    "\n",
    "\n"
   ]
  },
  {
   "cell_type": "code",
   "execution_count": null,
   "metadata": {
    "scrolled": true
   },
   "outputs": [],
   "source": [
    "df_random_train_result, df_random_valid_result,df_random_time_result,df_random_timep_result = random_model(concat_df,df_target)"
   ]
  },
  {
   "cell_type": "code",
   "execution_count": null,
   "metadata": {},
   "outputs": [],
   "source": [
    "global_results = add_results(df_random_train_result, df_random_valid_result,df_random_time_result,df_random_timep_result,'df','random_forest',global_results)\n"
   ]
  },
  {
   "cell_type": "code",
   "execution_count": null,
   "metadata": {},
   "outputs": [],
   "source": [
    "#Modelo Tree Regresor\n",
    "\n",
    "def tree_model(data, data_target):\n",
    "    \"\"\"Con esta función se realiza el entrenamiento, predicción y puntuación con RECM del modelo de DecisionTreeRegressor.\n",
    "    Parámetros:\n",
    "    data: conjunto de datos a utilizar\n",
    "    data_target: objetivo del conjunto\n",
    "    \"\"\"\n",
    "    \n",
    "    start_time = time.time()\n",
    "    model = DecisionTreeRegressor(random_state=92)\n",
    "    param = {'max_depth': [None, 5, 10]}\n",
    "    rs = RandomizedSearchCV(estimator=model, param_distributions=param, n_iter=5, scoring='neg_root_mean_squared_error', cv=3, n_jobs=-1, random_state=92)\n",
    "    rs.fit(features_train, target_train)\n",
    "    end_time = time.time()\n",
    "    training_time = round(end_time - start_time, 2)\n",
    "    print('Tiempo de entrenamiento:', training_time, 'segundos')\n",
    "    \n",
    "    start_timep = time.time()\n",
    "    train_pred = rs.best_estimator_.predict(features_train)\n",
    "    valid_pred = rs.best_estimator_.predict(features_valid)\n",
    "    end_timep = time.time()\n",
    "    predict_time = round(end_timep - start_timep, 2)\n",
    "    print('Tiempo de prediccion:', predict_time, 'segundos')\n",
    "    # Prueba de cordura\n",
    "    cord_test = mean_squared_error(target_train, pd.Series(target_train.mean(), index=target_train), squared=False)\n",
    "    print('La prueba de cordura de la raíz del error cuadrático medio para el conjunto de entrenamiento es:', cord_test)\n",
    "    cord_valid = mean_squared_error(target_valid, pd.Series(target_valid.mean(), index=target_valid), squared=False)\n",
    "    print('La prueba de cordura de la raíz del error cuadrático medio para el conjunto de validación es:', cord_valid)\n",
    "    \n",
    "    recm_train = mean_squared_error(target_train, train_pred, squared=False)\n",
    "    print('La raíz del error cuadrático medio del conjunto de entrenamiento es:', recm_train)\n",
    "    recm_valid = mean_squared_error(target_valid, valid_pred, squared=False)\n",
    "    print('La raíz del error cuadrático medio del conjunto de validación es:', recm_valid)\n",
    "   \n",
    "    return recm_train, recm_valid, training_time, predict_time\n"
   ]
  },
  {
   "cell_type": "code",
   "execution_count": null,
   "metadata": {
    "scrolled": true
   },
   "outputs": [],
   "source": [
    "df_tree_train_result, df_tree_valid_result,df_tree_time_result,df_tree_timep_result = tree_model(concat_df,df_target)"
   ]
  },
  {
   "cell_type": "code",
   "execution_count": null,
   "metadata": {
    "scrolled": true
   },
   "outputs": [],
   "source": [
    "global_results = add_results(df_tree_train_result, df_tree_valid_result,df_tree_time_result,df_tree_timep_result,'df','decission tree',global_results)"
   ]
  },
  {
   "cell_type": "markdown",
   "metadata": {},
   "source": [
    "Se han probado varios modelos para entrenamiento y predicción. El modelo de Random Forest ha obtenido la mejor calificación según la métrica RECM, aunque es el más lento en entrenar. \n",
    "\n",
    "Por otro lado, los modelos de Decision Tree y Logistic Regression son rápidos de entrenar, pero presentan sobreajuste y su calificación en RECM no es muy buena."
   ]
  },
  {
   "cell_type": "code",
   "execution_count": null,
   "metadata": {},
   "outputs": [],
   "source": [
    "#LightGBM\n",
    "\n",
    "def lgbm_tree_regressor(data,target):\n",
    "    \"\"\"Con esta funcion se realiza el entrenamiento, prediccion y puntuacion con RECM del modelo de LightGBM, parametros:\n",
    "    data: conjunto de datos a utilizar\n",
    "    data_target: objetivo del conjunto\n",
    "    \"\"\"\n",
    "    \n",
    "    params = {\n",
    "    'task': 'train', \n",
    "    'boosting': 'gbdt',\n",
    "    'objective': 'regression',\n",
    "    'num_leaves': 10,\n",
    "    'learning_rate': 0.05,\n",
    "    'metric': 'root_mean_squared_error',\n",
    "    'force_row_wise': True}\n",
    "    lgb_train = lgb.Dataset(features_train,target_train)\n",
    "    lgb_eval = lgb.Dataset(features_valid,target_valid, reference = lgb_train)\n",
    "    start_time = time.time()\n",
    "    model = lgb.train(params,\n",
    "                 train_set=lgb_train,\n",
    "                 valid_sets=lgb_eval)\n",
    "    end_time = time.time()\n",
    "    training_time = round(end_time - start_time,2)\n",
    "    print('Tiempo de entrenamiento:', training_time,'segundos')\n",
    "    \n",
    "    start_timep = time.time()\n",
    "    train_pred = model.predict(features_train)\n",
    "    valid_pred = model.predict(features_valid)\n",
    "    end_timep = time.time()\n",
    "    predict_time = round(end_timep - start_timep,2)\n",
    "    print('Tiempo de prediccion:', predict_time,'segundos')\n",
    "     #Prueba de cordura\n",
    "    cord_test = mean_squared_error(target_train,pd.Series(target_train.mean(),index=target_train),squared=False)\n",
    "    print('La prueba de cordura de la raiz del error cuadratico medio  para el conjunto de entrenamiento es:',cord_test)\n",
    "    cord_valid = mean_squared_error(target_valid,pd.Series(target_valid.mean(),index=target_valid),squared=False)\n",
    "    print('La prueba de cordura de la raiz del error cuadratico medio  para el conjunto de validación es:',cord_valid)\n",
    "    recm_train = mean_squared_error(target_train,train_pred,squared=False)\n",
    "    print('La raiz del error cuadratico medio del conjunto de entrenamiento es:',recm_train)\n",
    "    recm_valid = mean_squared_error(target_valid,valid_pred,squared=False)\n",
    "    print('La raiz del error cuadratico medio del conjunto de validación es:',recm_valid)\n",
    "    return recm_train, recm_valid,training_time, predict_time\n"
   ]
  },
  {
   "cell_type": "code",
   "execution_count": null,
   "metadata": {
    "scrolled": true
   },
   "outputs": [],
   "source": [
    "df_lgbmtree_train_result, df_lgbmtree_valid_result,df_lgbmtree_time_result,df_lgbmtree_timep_result = lgbm_tree_regressor(concat_df,df_target)"
   ]
  },
  {
   "cell_type": "code",
   "execution_count": null,
   "metadata": {},
   "outputs": [],
   "source": [
    "global_results = add_results(df_lgbmtree_train_result, df_lgbmtree_valid_result,df_lgbmtree_time_result,df_lgbmtree_timep_result,'df','LGBM_tree',global_results)\n"
   ]
  },
  {
   "cell_type": "code",
   "execution_count": null,
   "metadata": {},
   "outputs": [],
   "source": [
    "#LightGBM RandonForest\n",
    "\n",
    "def lgbm_random_regressor(data,target):\n",
    "    \"\"\"Con esta funcion se realiza el entrenamiento, prediccion y puntuacion con RECM del modelo de LightGBM, parametros:\n",
    "    data: conjunto de datos a utilizar\n",
    "    data_target: objetivo del conjunto\n",
    "    \"\"\"\n",
    "    \n",
    "    params = {\n",
    "    'task': 'train', \n",
    "    'boosting': 'rf',\n",
    "    'objective': 'regression',\n",
    "    'num_leaves': 10,\n",
    "    'learning_rate': 0.05,\n",
    "    'metric': 'root_mean_squared_error',\n",
    "    'force_row_wise': True,\n",
    "    'bagging_fraction': 0.5,\n",
    "    'bagging_freq':1,\n",
    "    'feature_fraction':0.9}\n",
    "    lgb_train = lgb.Dataset(features_train,target_train)\n",
    "    lgb_eval = lgb.Dataset(features_valid,target_valid, reference = lgb_train)\n",
    "    start_time = time.time()\n",
    "    model = lgb.train(params,\n",
    "                 train_set=lgb_train,\n",
    "                 valid_sets=lgb_eval)\n",
    "    end_time = time.time()\n",
    "    training_time = round(end_time - start_time,2)\n",
    "    print('Tiempo de entrenamiento:', training_time,'segundos')\n",
    "    \n",
    "    start_timep = time.time()\n",
    "    train_pred = model.predict(features_train)\n",
    "    valid_pred = model.predict(features_valid)\n",
    "    end_timep = time.time()\n",
    "    predict_time = round(end_timep - start_timep,2)\n",
    "    print('Tiempo de prediccion:', predict_time,'segundos')\n",
    "     #Prueba de cordura\n",
    "    cord_test = mean_squared_error(target_train,pd.Series(target_train.mean(),index=target_train),squared=False)\n",
    "    print('La prueba de cordura de la raiz del error cuadratico medio  para el conjunto de entrenamiento es:',cord_test)\n",
    "    cord_valid = mean_squared_error(target_valid,pd.Series(target_valid.mean(),index=target_valid),squared=False)\n",
    "    print('La prueba de cordura de la raiz del error cuadratico medio  para el conjunto de validación es:',cord_valid)\n",
    "    recm_train = mean_squared_error(target_train,train_pred,squared=False)\n",
    "    print('La raiz del error cuadratico medio del conjunto de entrenamiento es:',recm_train)\n",
    "    recm_valid = mean_squared_error(target_valid,valid_pred,squared=False)\n",
    "    print('La raiz del error cuadratico medio del conjunto de validación es:',recm_valid)\n",
    "    return recm_train, recm_valid,training_time, predict_time"
   ]
  },
  {
   "cell_type": "code",
   "execution_count": null,
   "metadata": {},
   "outputs": [],
   "source": [
    "df_lgbmrandom_train_result, df_lgbmrandom_valid_result,df_lgbmrandom_time_result,df_lgbmrandom_timep_result = lgbm_random_regressor(concat_df,df_target)"
   ]
  },
  {
   "cell_type": "code",
   "execution_count": null,
   "metadata": {},
   "outputs": [],
   "source": [
    "global_results = add_results(df_lgbmrandom_train_result, df_lgbmrandom_valid_result,df_lgbmrandom_time_result,df_lgbmrandom_timep_result,'df','LGBM_random',global_results)\n"
   ]
  },
  {
   "cell_type": "code",
   "execution_count": null,
   "metadata": {},
   "outputs": [],
   "source": [
    "features = ['vehicletype', 'registrationyear', 'gearbox','power', 'model', 'mileage','fueltype', 'brand',\n",
    "            'notrepaired']\n"
   ]
  },
  {
   "cell_type": "code",
   "execution_count": null,
   "metadata": {},
   "outputs": [],
   "source": [
    "df[['vehicletype','gearbox','model','fueltype']] = df[['vehicletype','gearbox','model','fueltype']].fillna('unknown')"
   ]
  },
  {
   "cell_type": "code",
   "execution_count": null,
   "metadata": {},
   "outputs": [],
   "source": [
    "def catboost_regressor(data,target,features,cat_features):\n",
    "    \"\"\"Con esta funcion se realiza el entrenamiento, prediccion y puntuacion con RECM del modelo de catboostregressor, parametros:\n",
    "    data: conjunto de datos a utilizar\n",
    "    target: objetivo del conjunto\n",
    "    features: caracteristicas del conjunto data\n",
    "    cat_features = variables categoricas de features\n",
    "    \"\"\"\n",
    "    features_train, features_valid, target_train, target_valid = train_test_split(data[features], target, test_size=0.20, random_state=92)\n",
    "    start_time = time.time()\n",
    "    model = CatBoostRegressor(random_state=92)\n",
    "    model.fit(features_train,target_train,cat_features=cat_features)\n",
    "    end_time = time.time()\n",
    "    training_time = round(end_time - start_time,2)\n",
    "    print('Tiempo de entrenamiento:', training_time,'segundos')\n",
    "    \n",
    "    start_timep = time.time()\n",
    "    train_pred = model.predict(features_train)\n",
    "    valid_pred = model.predict(features_valid)\n",
    "    end_timep = time.time()\n",
    "    predict_time = round(end_timep - start_timep,2)\n",
    "    print('Tiempo de prediccion:', predict_time,'segundos')\n",
    "    \n",
    "     #Prueba de cordura\n",
    "    cord_test = mean_squared_error(target_train,pd.Series(target_train.mean(),index=target_train),squared=False)\n",
    "    print('La prueba de cordura de la raiz del error cuadratico medio  para el conjunto de entrenamiento es:',cord_test)\n",
    "    cord_valid = mean_squared_error(target_valid,pd.Series(target_valid.mean(),index=target_valid),squared=False)\n",
    "    print('La prueba de cordura de la raiz del error cuadratico medio  para el conjunto de validación es:',cord_valid)\n",
    "    recm_train = mean_squared_error(target_train,train_pred,squared=False)\n",
    "    print('La raiz del error cuadratico medio del conjunto de entrenamiento es:',recm_train)\n",
    "    recm_valid = mean_squared_error(target_valid,valid_pred,squared=False)\n",
    "    print('La raiz del error cuadratico medio del conjunto de validación es:',recm_valid)\n",
    "    return recm_train, recm_valid,training_time, predict_time"
   ]
  },
  {
   "cell_type": "code",
   "execution_count": null,
   "metadata": {},
   "outputs": [],
   "source": [
    "df_catboost_train_result, df_catboost_valid_result, df_catboost_time_result, df_catboost_timep_result = catboost_regressor(df,df_target,features,features_cat)"
   ]
  },
  {
   "cell_type": "code",
   "execution_count": null,
   "metadata": {
    "scrolled": true
   },
   "outputs": [],
   "source": [
    "global_results = add_results(df_catboost_train_result, df_catboost_valid_result, df_catboost_time_result,df_catboost_timep_result,'df','Catboost',global_results)"
   ]
  },
  {
   "cell_type": "code",
   "execution_count": null,
   "metadata": {},
   "outputs": [],
   "source": [
    "#Tabla comparativa de resultados\n",
    "\n",
    "global_results\n"
   ]
  },
  {
   "cell_type": "markdown",
   "metadata": {},
   "source": [
    "<div class=\"alert alert-block alert-success\">\n",
    "<b>Comentario del revisor (1ra Iteracion)</b> <a class=“tocSkip”></a>\n",
    "\n",
    "Muy buen trabajo con los entrenamientos y calculando los tiempos del mismo@\n",
    "</div>"
   ]
  },
  {
   "cell_type": "code",
   "execution_count": null,
   "metadata": {},
   "outputs": [],
   "source": [
    "#Revision de datos de acuerdo con la mejor metrica y mejor tiempo de procesamiento\n",
    "\n",
    "display(global_results.query('tipo == \"valid\"').sort_values(by='RECM'))\n",
    "global_results.query('tipo == \"valid\"').sort_values(by='RECM').plot(x='modelo',\n",
    "                                                                   y='RECM',\n",
    "                                                                   kind='bar')\n",
    "plt.title('RECM de modelos entrenados')\n",
    "plt.show()"
   ]
  },
  {
   "cell_type": "code",
   "execution_count": null,
   "metadata": {
    "scrolled": true
   },
   "outputs": [],
   "source": [
    "display(global_results.query('tipo == \"valid\"').sort_values(by='tiempo_entrenamiento'))\n",
    "global_results.query('tipo == \"valid\"').sort_values(by='tiempo_entrenamiento').plot(x='modelo',\n",
    "                                                                   y='tiempo_entrenamiento',\n",
    "                                                                   kind='bar')\n",
    "plt.title('RECM de modelos entrenados')\n",
    "plt.show()"
   ]
  },
  {
   "cell_type": "markdown",
   "metadata": {},
   "source": [
    "## Conclusiones\n",
    "\n",
    "* Los modelos con una mejor metrica de RECM son Catboost, RandomForestRegressor seguido de LightGBM, con una evaluacion de menos de 2000 de RECM lo que lo hace un buen modelo\n",
    "\n",
    "* El tiempo de entrenamiento de los modelos de DesicionTree y Catboost son los mas altos llevandose el primer lugar el modelo de RandomForest con mas de 500 segundos equivalente a 10min aproximadamente\n",
    "\n",
    "* El modelo catboost tiene el mayor tiempo de predicción pero las diferencias son minimas con respecto al resto de modelos\n",
    "\n",
    "* El modelo de Catboost a pesar de tener tiempo de entrenamiento equivalente a 7 min, tiene la mejor puntuación de RECM, por lo que en este caso seria la mejor opcion para este analisis\n"
   ]
  },
  {
   "cell_type": "markdown",
   "metadata": {},
   "source": [
    "<div class=\"alert alert-block alert-danger\">\n",
    "<b>Comentario general (1ra Iteracion)</b> <a class=“tocSkip”></a>\n",
    "\n",
    "Hiciste un muy buen trabajo con tu proyecto y el entrenamiento de tus modelos. Un modelo no vive solo en un notebook, en un entorno laboral estos modelos se suelen exponer mediante APIs para que puedan ser consumidos por lo que es importante el tiempo de respuesta que estos modelos, por lo que haría falta que analices también el tiempo que le toma a cada modelo en terminar el `.predict`\n",
    "</div>"
   ]
  },
  {
   "cell_type": "markdown",
   "metadata": {},
   "source": [
    "\n",
    "<div class=\"alert alert-block alert-info\">\n",
    "<b>Se añade una nueva columna con los tiempos de predicción de cada uno de los modelos de acuerdo con la recomendación del revisor, lo que da un valor adicional al momento de elegir el mejor modelo</b> <a class=“tocSkip”></a>\n",
    "</div>"
   ]
  },
  {
   "cell_type": "markdown",
   "metadata": {},
   "source": [
    "<div class=\"alert alert-block alert-success\">\n",
    "<b>Comentario del revisor (3ra Iteracion)</b> <a class=“tocSkip”></a>\n",
    "\n",
    "Buen trabajo Marco! Siempre es bueno tener en cuenta estas métricas antes de sacar un modelo a un entorno productivo porque cada segundo cuenta y es mejor escoger el mejor modelo en cuanto a respuestas"
   ]
  },
  {
   "cell_type": "markdown",
   "metadata": {},
   "source": [
    "# Lista de control"
   ]
  },
  {
   "cell_type": "markdown",
   "metadata": {},
   "source": [
    "Escribe 'x' para verificar. Luego presiona Shift+Enter"
   ]
  },
  {
   "cell_type": "markdown",
   "metadata": {},
   "source": [
    "- [x]  Jupyter Notebook está abierto\n",
    "- [ ]  El código no tiene errores- [ ]  Las celdas con el código han sido colocadas en orden de ejecución- [ ]  Los datos han sido descargados y preparados- [ ]  Los modelos han sido entrenados\n",
    "- [ ]  Se realizó el análisis de velocidad y calidad de los modelos"
   ]
  }
 ],
 "metadata": {
  "ExecuteTimeLog": [
   {
    "duration": 3262,
    "start_time": "2024-09-05T02:17:10.132Z"
   },
   {
    "duration": 405,
    "start_time": "2024-09-05T02:18:10.278Z"
   },
   {
    "duration": 26,
    "start_time": "2024-09-05T02:18:21.925Z"
   },
   {
    "duration": 538,
    "start_time": "2024-09-05T02:18:45.050Z"
   },
   {
    "duration": 492,
    "start_time": "2024-09-05T02:18:49.914Z"
   },
   {
    "duration": 4,
    "start_time": "2024-09-05T02:19:44.833Z"
   },
   {
    "duration": 116,
    "start_time": "2024-09-05T02:20:24.457Z"
   },
   {
    "duration": 16,
    "start_time": "2024-09-05T02:21:31.410Z"
   },
   {
    "duration": 76,
    "start_time": "2024-09-05T02:21:37.958Z"
   },
   {
    "duration": 4,
    "start_time": "2024-09-05T02:28:27.261Z"
   },
   {
    "duration": 19,
    "start_time": "2024-09-05T02:28:47.567Z"
   },
   {
    "duration": 21,
    "start_time": "2024-09-05T02:29:02.145Z"
   },
   {
    "duration": 3,
    "start_time": "2024-09-05T02:30:14.312Z"
   },
   {
    "duration": 24,
    "start_time": "2024-09-05T02:30:24.946Z"
   },
   {
    "duration": 118,
    "start_time": "2024-09-05T02:30:30.916Z"
   },
   {
    "duration": 21,
    "start_time": "2024-09-05T02:31:14.723Z"
   },
   {
    "duration": 17,
    "start_time": "2024-09-05T02:31:26.899Z"
   },
   {
    "duration": 18,
    "start_time": "2024-09-05T02:31:54.541Z"
   },
   {
    "duration": 13,
    "start_time": "2024-09-05T02:32:07.967Z"
   },
   {
    "duration": 25,
    "start_time": "2024-09-05T02:32:15.637Z"
   },
   {
    "duration": 14,
    "start_time": "2024-09-05T02:32:26.026Z"
   },
   {
    "duration": 18,
    "start_time": "2024-09-05T02:32:43.257Z"
   },
   {
    "duration": 1899,
    "start_time": "2024-09-05T02:34:47.389Z"
   },
   {
    "duration": 108,
    "start_time": "2024-09-05T02:34:58.063Z"
   },
   {
    "duration": 13,
    "start_time": "2024-09-05T02:35:51.661Z"
   },
   {
    "duration": 103,
    "start_time": "2024-09-05T02:35:58.086Z"
   },
   {
    "duration": 225,
    "start_time": "2024-09-05T02:36:44.663Z"
   },
   {
    "duration": 116,
    "start_time": "2024-09-05T02:37:09.117Z"
   },
   {
    "duration": 21,
    "start_time": "2024-09-05T02:52:59.130Z"
   },
   {
    "duration": 3,
    "start_time": "2024-09-05T02:53:12.782Z"
   },
   {
    "duration": 36,
    "start_time": "2024-09-05T02:54:34.110Z"
   },
   {
    "duration": 42,
    "start_time": "2024-09-05T02:55:07.515Z"
   },
   {
    "duration": 75,
    "start_time": "2024-09-05T02:56:37.610Z"
   },
   {
    "duration": 7,
    "start_time": "2024-09-05T02:59:13.167Z"
   },
   {
    "duration": 48,
    "start_time": "2024-09-05T02:59:18.208Z"
   },
   {
    "duration": 78,
    "start_time": "2024-09-05T03:46:22.606Z"
   },
   {
    "duration": 137,
    "start_time": "2024-09-05T03:46:34.122Z"
   },
   {
    "duration": 18,
    "start_time": "2024-09-05T03:52:04.539Z"
   },
   {
    "duration": 94,
    "start_time": "2024-09-05T03:52:11.493Z"
   },
   {
    "duration": 92,
    "start_time": "2024-09-05T03:54:08.184Z"
   },
   {
    "duration": 79,
    "start_time": "2024-09-05T03:54:39.902Z"
   },
   {
    "duration": 14,
    "start_time": "2024-09-05T03:55:23.053Z"
   },
   {
    "duration": 17,
    "start_time": "2024-09-05T03:55:48.130Z"
   },
   {
    "duration": 1329,
    "start_time": "2024-09-05T03:56:04.463Z"
   },
   {
    "duration": 76,
    "start_time": "2024-09-05T04:01:17.395Z"
   },
   {
    "duration": 16,
    "start_time": "2024-09-05T04:02:03.228Z"
   },
   {
    "duration": 20,
    "start_time": "2024-09-05T04:02:51.107Z"
   },
   {
    "duration": 74,
    "start_time": "2024-09-05T04:02:56.065Z"
   },
   {
    "duration": 1524,
    "start_time": "2024-09-05T04:03:18.920Z"
   },
   {
    "duration": 693,
    "start_time": "2024-09-05T04:03:51.139Z"
   },
   {
    "duration": 392,
    "start_time": "2024-09-05T04:50:05.309Z"
   },
   {
    "duration": 20,
    "start_time": "2024-09-05T04:50:43.428Z"
   },
   {
    "duration": 451,
    "start_time": "2024-09-05T04:51:25.456Z"
   },
   {
    "duration": 4,
    "start_time": "2024-09-05T04:51:37.079Z"
   },
   {
    "duration": 371,
    "start_time": "2024-09-05T04:51:56.291Z"
   },
   {
    "duration": 354,
    "start_time": "2024-09-05T04:52:34.430Z"
   },
   {
    "duration": 334,
    "start_time": "2024-09-05T04:52:59.106Z"
   },
   {
    "duration": 312,
    "start_time": "2024-09-05T04:54:06.368Z"
   },
   {
    "duration": 337,
    "start_time": "2024-09-05T04:54:35.304Z"
   },
   {
    "duration": 405,
    "start_time": "2024-09-05T04:55:12.188Z"
   },
   {
    "duration": 396,
    "start_time": "2024-09-05T04:55:26.467Z"
   },
   {
    "duration": 6,
    "start_time": "2024-09-05T05:06:37.277Z"
   },
   {
    "duration": 3,
    "start_time": "2024-09-05T05:06:48.179Z"
   },
   {
    "duration": 4,
    "start_time": "2024-09-05T05:06:51.398Z"
   },
   {
    "duration": 4,
    "start_time": "2024-09-05T05:06:53.466Z"
   },
   {
    "duration": 372,
    "start_time": "2024-09-05T05:06:57.425Z"
   },
   {
    "duration": 318,
    "start_time": "2024-09-05T05:07:09.103Z"
   },
   {
    "duration": 9,
    "start_time": "2024-09-05T05:07:50.360Z"
   },
   {
    "duration": 29,
    "start_time": "2024-09-05T05:08:22.792Z"
   },
   {
    "duration": 9,
    "start_time": "2024-09-05T05:09:05.774Z"
   },
   {
    "duration": 11,
    "start_time": "2024-09-05T05:09:14.617Z"
   },
   {
    "duration": 14,
    "start_time": "2024-09-05T05:09:29.010Z"
   },
   {
    "duration": 22,
    "start_time": "2024-09-05T05:13:38.706Z"
   },
   {
    "duration": 15,
    "start_time": "2024-09-05T05:14:25.641Z"
   },
   {
    "duration": 372,
    "start_time": "2024-09-05T05:14:38.769Z"
   },
   {
    "duration": 374,
    "start_time": "2024-09-05T05:15:04.435Z"
   },
   {
    "duration": 7,
    "start_time": "2024-09-05T05:16:32.629Z"
   },
   {
    "duration": 23,
    "start_time": "2024-09-05T05:16:53.379Z"
   },
   {
    "duration": 16,
    "start_time": "2024-09-05T05:18:01.863Z"
   },
   {
    "duration": 17,
    "start_time": "2024-09-05T05:18:13.236Z"
   },
   {
    "duration": 14,
    "start_time": "2024-09-05T05:18:23.041Z"
   },
   {
    "duration": 20,
    "start_time": "2024-09-05T05:18:36.663Z"
   },
   {
    "duration": 6,
    "start_time": "2024-09-05T05:18:45.441Z"
   },
   {
    "duration": 19,
    "start_time": "2024-09-05T05:19:00.560Z"
   },
   {
    "duration": 13,
    "start_time": "2024-09-05T05:19:56.681Z"
   },
   {
    "duration": 27,
    "start_time": "2024-09-05T05:20:50.308Z"
   },
   {
    "duration": 8,
    "start_time": "2024-09-05T05:21:13.860Z"
   },
   {
    "duration": 6,
    "start_time": "2024-09-05T05:28:39.392Z"
   },
   {
    "duration": 304,
    "start_time": "2024-09-05T05:29:05.278Z"
   },
   {
    "duration": 2598,
    "start_time": "2024-09-07T05:40:07.715Z"
   },
   {
    "duration": 468,
    "start_time": "2024-09-07T05:40:10.315Z"
   },
   {
    "duration": 4,
    "start_time": "2024-09-07T05:40:10.785Z"
   },
   {
    "duration": 101,
    "start_time": "2024-09-07T05:40:10.791Z"
   },
   {
    "duration": 94,
    "start_time": "2024-09-07T05:40:10.894Z"
   },
   {
    "duration": 1299,
    "start_time": "2024-09-07T05:40:10.989Z"
   },
   {
    "duration": 65,
    "start_time": "2024-09-07T05:40:12.290Z"
   },
   {
    "duration": 49,
    "start_time": "2024-09-07T05:40:12.357Z"
   },
   {
    "duration": 27,
    "start_time": "2024-09-07T05:40:12.408Z"
   },
   {
    "duration": 85,
    "start_time": "2024-09-07T05:40:12.439Z"
   },
   {
    "duration": 58,
    "start_time": "2024-09-07T05:40:12.526Z"
   },
   {
    "duration": 340,
    "start_time": "2024-09-07T05:40:12.585Z"
   },
   {
    "duration": 270,
    "start_time": "2024-09-07T05:40:12.927Z"
   },
   {
    "duration": 8,
    "start_time": "2024-09-07T05:40:13.199Z"
   },
   {
    "duration": 30,
    "start_time": "2024-09-07T05:40:13.208Z"
   },
   {
    "duration": 278,
    "start_time": "2024-09-07T05:40:13.240Z"
   },
   {
    "duration": 24,
    "start_time": "2024-09-07T05:40:13.520Z"
   },
   {
    "duration": 8,
    "start_time": "2024-09-07T05:40:13.546Z"
   },
   {
    "duration": 246,
    "start_time": "2024-09-07T05:40:13.555Z"
   },
   {
    "duration": 264,
    "start_time": "2024-09-07T05:41:11.253Z"
   },
   {
    "duration": 3,
    "start_time": "2024-09-07T05:47:51.695Z"
   },
   {
    "duration": 3,
    "start_time": "2024-09-07T05:49:38.211Z"
   },
   {
    "duration": 4,
    "start_time": "2024-09-07T05:49:45.307Z"
   },
   {
    "duration": 3,
    "start_time": "2024-09-07T05:50:04.962Z"
   },
   {
    "duration": 5,
    "start_time": "2024-09-07T05:50:13.029Z"
   },
   {
    "duration": 15,
    "start_time": "2024-09-07T05:56:28.517Z"
   },
   {
    "duration": 938,
    "start_time": "2024-09-07T05:57:22.129Z"
   },
   {
    "duration": 51,
    "start_time": "2024-09-07T05:59:50.897Z"
   },
   {
    "duration": 923,
    "start_time": "2024-09-07T06:00:09.801Z"
   },
   {
    "duration": 3,
    "start_time": "2024-09-07T06:01:41.875Z"
   },
   {
    "duration": 926,
    "start_time": "2024-09-07T06:02:08.163Z"
   },
   {
    "duration": 850,
    "start_time": "2024-09-07T06:05:02.891Z"
   },
   {
    "duration": 997,
    "start_time": "2024-09-07T06:05:15.072Z"
   },
   {
    "duration": 856,
    "start_time": "2024-09-07T06:05:35.059Z"
   },
   {
    "duration": 987,
    "start_time": "2024-09-07T06:05:43.180Z"
   },
   {
    "duration": 593,
    "start_time": "2024-09-07T06:16:52.053Z"
   },
   {
    "duration": 562,
    "start_time": "2024-09-07T06:17:06.603Z"
   },
   {
    "duration": 106,
    "start_time": "2024-09-07T06:19:50.077Z"
   },
   {
    "duration": 106,
    "start_time": "2024-09-07T06:20:13.630Z"
   },
   {
    "duration": 2658,
    "start_time": "2024-09-07T11:47:27.892Z"
   },
   {
    "duration": 512,
    "start_time": "2024-09-07T11:47:30.552Z"
   },
   {
    "duration": 4,
    "start_time": "2024-09-07T11:47:31.066Z"
   },
   {
    "duration": 106,
    "start_time": "2024-09-07T11:47:31.072Z"
   },
   {
    "duration": 102,
    "start_time": "2024-09-07T11:47:31.180Z"
   },
   {
    "duration": 1318,
    "start_time": "2024-09-07T11:47:31.284Z"
   },
   {
    "duration": 68,
    "start_time": "2024-09-07T11:47:32.604Z"
   },
   {
    "duration": 49,
    "start_time": "2024-09-07T11:47:32.674Z"
   },
   {
    "duration": 33,
    "start_time": "2024-09-07T11:47:32.725Z"
   },
   {
    "duration": 86,
    "start_time": "2024-09-07T11:47:32.762Z"
   },
   {
    "duration": 59,
    "start_time": "2024-09-07T11:47:32.850Z"
   },
   {
    "duration": 301,
    "start_time": "2024-09-07T11:47:32.911Z"
   },
   {
    "duration": 332,
    "start_time": "2024-09-07T11:47:33.214Z"
   },
   {
    "duration": 9,
    "start_time": "2024-09-07T11:47:33.548Z"
   },
   {
    "duration": 21,
    "start_time": "2024-09-07T11:47:33.558Z"
   },
   {
    "duration": 299,
    "start_time": "2024-09-07T11:47:33.581Z"
   },
   {
    "duration": 23,
    "start_time": "2024-09-07T11:47:33.882Z"
   },
   {
    "duration": 6,
    "start_time": "2024-09-07T11:47:33.907Z"
   },
   {
    "duration": 281,
    "start_time": "2024-09-07T11:47:33.915Z"
   },
   {
    "duration": 3,
    "start_time": "2024-09-07T11:47:34.198Z"
   },
   {
    "duration": 6,
    "start_time": "2024-09-07T11:47:34.202Z"
   },
   {
    "duration": 976,
    "start_time": "2024-09-07T11:47:34.209Z"
   },
   {
    "duration": 639,
    "start_time": "2024-09-07T11:47:35.187Z"
   },
   {
    "duration": 121,
    "start_time": "2024-09-07T11:47:35.828Z"
   },
   {
    "duration": 538,
    "start_time": "2024-09-07T11:51:03.546Z"
   },
   {
    "duration": 3,
    "start_time": "2024-09-07T11:52:02.169Z"
   },
   {
    "duration": 34,
    "start_time": "2024-09-07T11:52:33.719Z"
   },
   {
    "duration": 9,
    "start_time": "2024-09-07T11:53:23.934Z"
   },
   {
    "duration": 127,
    "start_time": "2024-09-07T11:54:00.412Z"
   },
   {
    "duration": 10,
    "start_time": "2024-09-07T11:54:04.602Z"
   },
   {
    "duration": 108,
    "start_time": "2024-09-07T11:54:21.372Z"
   },
   {
    "duration": 14,
    "start_time": "2024-09-07T11:56:29.580Z"
   },
   {
    "duration": 18,
    "start_time": "2024-09-07T11:56:49.568Z"
   },
   {
    "duration": 658,
    "start_time": "2024-09-07T11:57:43.862Z"
   },
   {
    "duration": 1068,
    "start_time": "2024-09-07T11:59:00.445Z"
   },
   {
    "duration": 509,
    "start_time": "2024-09-07T11:59:01.515Z"
   },
   {
    "duration": 4,
    "start_time": "2024-09-07T11:59:02.026Z"
   },
   {
    "duration": 101,
    "start_time": "2024-09-07T11:59:02.043Z"
   },
   {
    "duration": 98,
    "start_time": "2024-09-07T11:59:02.146Z"
   },
   {
    "duration": 1375,
    "start_time": "2024-09-07T11:59:02.246Z"
   },
   {
    "duration": 65,
    "start_time": "2024-09-07T11:59:03.623Z"
   },
   {
    "duration": 57,
    "start_time": "2024-09-07T11:59:03.690Z"
   },
   {
    "duration": 16,
    "start_time": "2024-09-07T11:59:03.749Z"
   },
   {
    "duration": 91,
    "start_time": "2024-09-07T11:59:03.768Z"
   },
   {
    "duration": 59,
    "start_time": "2024-09-07T11:59:03.861Z"
   },
   {
    "duration": 295,
    "start_time": "2024-09-07T11:59:03.922Z"
   },
   {
    "duration": 282,
    "start_time": "2024-09-07T11:59:04.218Z"
   },
   {
    "duration": 8,
    "start_time": "2024-09-07T11:59:04.502Z"
   },
   {
    "duration": 34,
    "start_time": "2024-09-07T11:59:04.512Z"
   },
   {
    "duration": 276,
    "start_time": "2024-09-07T11:59:04.547Z"
   },
   {
    "duration": 27,
    "start_time": "2024-09-07T11:59:04.825Z"
   },
   {
    "duration": 7,
    "start_time": "2024-09-07T11:59:04.854Z"
   },
   {
    "duration": 281,
    "start_time": "2024-09-07T11:59:04.863Z"
   },
   {
    "duration": 3,
    "start_time": "2024-09-07T11:59:05.147Z"
   },
   {
    "duration": 5,
    "start_time": "2024-09-07T11:59:05.151Z"
   },
   {
    "duration": 995,
    "start_time": "2024-09-07T11:59:05.158Z"
   },
   {
    "duration": 649,
    "start_time": "2024-09-07T11:59:06.155Z"
   },
   {
    "duration": 121,
    "start_time": "2024-09-07T11:59:06.806Z"
   },
   {
    "duration": 344,
    "start_time": "2024-09-07T11:59:06.929Z"
   },
   {
    "duration": 3,
    "start_time": "2024-09-07T12:09:34.758Z"
   },
   {
    "duration": 7,
    "start_time": "2024-09-07T12:09:44.449Z"
   },
   {
    "duration": 231,
    "start_time": "2024-09-07T12:13:17.453Z"
   },
   {
    "duration": 2667,
    "start_time": "2024-09-08T18:13:39.703Z"
   },
   {
    "duration": 480,
    "start_time": "2024-09-08T18:13:42.372Z"
   },
   {
    "duration": 4,
    "start_time": "2024-09-08T18:13:42.853Z"
   },
   {
    "duration": 97,
    "start_time": "2024-09-08T18:13:42.859Z"
   },
   {
    "duration": 99,
    "start_time": "2024-09-08T18:13:42.959Z"
   },
   {
    "duration": 1318,
    "start_time": "2024-09-08T18:13:43.060Z"
   },
   {
    "duration": 60,
    "start_time": "2024-09-08T18:13:44.380Z"
   },
   {
    "duration": 62,
    "start_time": "2024-09-08T18:13:44.442Z"
   },
   {
    "duration": 16,
    "start_time": "2024-09-08T18:13:44.505Z"
   },
   {
    "duration": 93,
    "start_time": "2024-09-08T18:13:44.523Z"
   },
   {
    "duration": 67,
    "start_time": "2024-09-08T18:13:44.617Z"
   },
   {
    "duration": 346,
    "start_time": "2024-09-08T18:13:44.686Z"
   },
   {
    "duration": 269,
    "start_time": "2024-09-08T18:13:45.034Z"
   },
   {
    "duration": 8,
    "start_time": "2024-09-08T18:13:45.306Z"
   },
   {
    "duration": 23,
    "start_time": "2024-09-08T18:13:45.316Z"
   },
   {
    "duration": 283,
    "start_time": "2024-09-08T18:13:45.341Z"
   },
   {
    "duration": 22,
    "start_time": "2024-09-08T18:13:45.626Z"
   },
   {
    "duration": 21,
    "start_time": "2024-09-08T18:13:45.650Z"
   },
   {
    "duration": 270,
    "start_time": "2024-09-08T18:13:45.673Z"
   },
   {
    "duration": 3,
    "start_time": "2024-09-08T18:13:45.945Z"
   },
   {
    "duration": 5,
    "start_time": "2024-09-08T18:13:45.949Z"
   },
   {
    "duration": 979,
    "start_time": "2024-09-08T18:13:45.969Z"
   },
   {
    "duration": 595,
    "start_time": "2024-09-08T18:13:46.950Z"
   },
   {
    "duration": 111,
    "start_time": "2024-09-08T18:13:47.548Z"
   },
   {
    "duration": 345,
    "start_time": "2024-09-08T18:13:47.660Z"
   },
   {
    "duration": 4,
    "start_time": "2024-09-08T18:13:48.007Z"
   },
   {
    "duration": 3,
    "start_time": "2024-09-08T18:13:48.012Z"
   },
   {
    "duration": 3,
    "start_time": "2024-09-08T18:14:07.262Z"
   },
   {
    "duration": 7,
    "start_time": "2024-09-08T18:14:14.118Z"
   },
   {
    "duration": 2816,
    "start_time": "2024-09-08T22:16:36.527Z"
   },
   {
    "duration": 483,
    "start_time": "2024-09-08T22:16:39.345Z"
   },
   {
    "duration": 4,
    "start_time": "2024-09-08T22:16:39.833Z"
   },
   {
    "duration": 98,
    "start_time": "2024-09-08T22:16:39.840Z"
   },
   {
    "duration": 101,
    "start_time": "2024-09-08T22:16:39.940Z"
   },
   {
    "duration": 1325,
    "start_time": "2024-09-08T22:16:40.043Z"
   },
   {
    "duration": 65,
    "start_time": "2024-09-08T22:16:41.370Z"
   },
   {
    "duration": 51,
    "start_time": "2024-09-08T22:16:41.436Z"
   },
   {
    "duration": 16,
    "start_time": "2024-09-08T22:16:41.490Z"
   },
   {
    "duration": 94,
    "start_time": "2024-09-08T22:16:41.511Z"
   },
   {
    "duration": 71,
    "start_time": "2024-09-08T22:16:41.607Z"
   },
   {
    "duration": 294,
    "start_time": "2024-09-08T22:16:41.680Z"
   },
   {
    "duration": 282,
    "start_time": "2024-09-08T22:16:41.978Z"
   },
   {
    "duration": 9,
    "start_time": "2024-09-08T22:16:42.262Z"
   },
   {
    "duration": 22,
    "start_time": "2024-09-08T22:16:42.273Z"
   },
   {
    "duration": 381,
    "start_time": "2024-09-08T22:16:42.297Z"
   },
   {
    "duration": 23,
    "start_time": "2024-09-08T22:16:42.680Z"
   },
   {
    "duration": 8,
    "start_time": "2024-09-08T22:16:42.704Z"
   },
   {
    "duration": 284,
    "start_time": "2024-09-08T22:16:42.713Z"
   },
   {
    "duration": 3,
    "start_time": "2024-09-08T22:16:42.999Z"
   },
   {
    "duration": 5,
    "start_time": "2024-09-08T22:16:43.004Z"
   },
   {
    "duration": 990,
    "start_time": "2024-09-08T22:16:43.010Z"
   },
   {
    "duration": 638,
    "start_time": "2024-09-08T22:16:44.002Z"
   },
   {
    "duration": 118,
    "start_time": "2024-09-08T22:16:44.643Z"
   },
   {
    "duration": 345,
    "start_time": "2024-09-08T22:16:44.763Z"
   },
   {
    "duration": 3,
    "start_time": "2024-09-08T22:16:45.110Z"
   },
   {
    "duration": 16,
    "start_time": "2024-09-08T22:16:45.115Z"
   },
   {
    "duration": 5,
    "start_time": "2024-09-08T22:35:55.209Z"
   },
   {
    "duration": 4,
    "start_time": "2024-09-08T22:37:03.521Z"
   },
   {
    "duration": 247,
    "start_time": "2024-09-08T22:37:20.286Z"
   },
   {
    "duration": 161,
    "start_time": "2024-09-08T22:37:54.068Z"
   },
   {
    "duration": 1053,
    "start_time": "2024-09-08T22:38:09.494Z"
   },
   {
    "duration": 491,
    "start_time": "2024-09-08T22:38:10.549Z"
   },
   {
    "duration": 4,
    "start_time": "2024-09-08T22:38:11.042Z"
   },
   {
    "duration": 107,
    "start_time": "2024-09-08T22:38:11.049Z"
   },
   {
    "duration": 103,
    "start_time": "2024-09-08T22:38:11.158Z"
   },
   {
    "duration": 1368,
    "start_time": "2024-09-08T22:38:11.263Z"
   },
   {
    "duration": 61,
    "start_time": "2024-09-08T22:38:12.633Z"
   },
   {
    "duration": 72,
    "start_time": "2024-09-08T22:38:12.696Z"
   },
   {
    "duration": 17,
    "start_time": "2024-09-08T22:38:12.770Z"
   },
   {
    "duration": 92,
    "start_time": "2024-09-08T22:38:12.791Z"
   },
   {
    "duration": 68,
    "start_time": "2024-09-08T22:38:12.885Z"
   },
   {
    "duration": 313,
    "start_time": "2024-09-08T22:38:12.955Z"
   },
   {
    "duration": 272,
    "start_time": "2024-09-08T22:38:13.269Z"
   },
   {
    "duration": 8,
    "start_time": "2024-09-08T22:38:13.543Z"
   },
   {
    "duration": 22,
    "start_time": "2024-09-08T22:38:13.553Z"
   },
   {
    "duration": 300,
    "start_time": "2024-09-08T22:38:13.577Z"
   },
   {
    "duration": 23,
    "start_time": "2024-09-08T22:38:13.879Z"
   },
   {
    "duration": 7,
    "start_time": "2024-09-08T22:38:13.904Z"
   },
   {
    "duration": 292,
    "start_time": "2024-09-08T22:38:13.912Z"
   },
   {
    "duration": 3,
    "start_time": "2024-09-08T22:38:14.206Z"
   },
   {
    "duration": 6,
    "start_time": "2024-09-08T22:38:14.210Z"
   },
   {
    "duration": 991,
    "start_time": "2024-09-08T22:38:14.218Z"
   },
   {
    "duration": 572,
    "start_time": "2024-09-08T22:38:15.210Z"
   },
   {
    "duration": 117,
    "start_time": "2024-09-08T22:38:15.783Z"
   },
   {
    "duration": 345,
    "start_time": "2024-09-08T22:38:15.902Z"
   },
   {
    "duration": 4,
    "start_time": "2024-09-08T22:38:16.248Z"
   },
   {
    "duration": 3,
    "start_time": "2024-09-08T22:38:16.254Z"
   },
   {
    "duration": 4,
    "start_time": "2024-09-08T22:38:16.261Z"
   },
   {
    "duration": 167,
    "start_time": "2024-09-08T23:09:11.629Z"
   },
   {
    "duration": 1084,
    "start_time": "2024-09-08T23:09:20.770Z"
   },
   {
    "duration": 494,
    "start_time": "2024-09-08T23:09:21.856Z"
   },
   {
    "duration": 4,
    "start_time": "2024-09-08T23:09:22.352Z"
   },
   {
    "duration": 126,
    "start_time": "2024-09-08T23:09:22.359Z"
   },
   {
    "duration": 97,
    "start_time": "2024-09-08T23:09:22.487Z"
   },
   {
    "duration": 1369,
    "start_time": "2024-09-08T23:09:22.587Z"
   },
   {
    "duration": 75,
    "start_time": "2024-09-08T23:09:23.958Z"
   },
   {
    "duration": 51,
    "start_time": "2024-09-08T23:09:24.035Z"
   },
   {
    "duration": 16,
    "start_time": "2024-09-08T23:09:24.088Z"
   },
   {
    "duration": 96,
    "start_time": "2024-09-08T23:09:24.108Z"
   },
   {
    "duration": 69,
    "start_time": "2024-09-08T23:09:24.205Z"
   },
   {
    "duration": 295,
    "start_time": "2024-09-08T23:09:24.276Z"
   },
   {
    "duration": 271,
    "start_time": "2024-09-08T23:09:24.572Z"
   },
   {
    "duration": 9,
    "start_time": "2024-09-08T23:09:24.845Z"
   },
   {
    "duration": 21,
    "start_time": "2024-09-08T23:09:24.855Z"
   },
   {
    "duration": 292,
    "start_time": "2024-09-08T23:09:24.878Z"
   },
   {
    "duration": 23,
    "start_time": "2024-09-08T23:09:25.172Z"
   },
   {
    "duration": 6,
    "start_time": "2024-09-08T23:09:25.197Z"
   },
   {
    "duration": 273,
    "start_time": "2024-09-08T23:09:25.205Z"
   },
   {
    "duration": 3,
    "start_time": "2024-09-08T23:09:25.481Z"
   },
   {
    "duration": 4,
    "start_time": "2024-09-08T23:09:25.486Z"
   },
   {
    "duration": 965,
    "start_time": "2024-09-08T23:09:25.492Z"
   },
   {
    "duration": 567,
    "start_time": "2024-09-08T23:09:26.459Z"
   },
   {
    "duration": 114,
    "start_time": "2024-09-08T23:09:27.032Z"
   },
   {
    "duration": 342,
    "start_time": "2024-09-08T23:09:27.147Z"
   },
   {
    "duration": 4,
    "start_time": "2024-09-08T23:09:27.491Z"
   },
   {
    "duration": 3,
    "start_time": "2024-09-08T23:09:27.496Z"
   },
   {
    "duration": 5,
    "start_time": "2024-09-08T23:09:27.503Z"
   },
   {
    "duration": 7,
    "start_time": "2024-09-08T23:16:46.309Z"
   },
   {
    "duration": 158,
    "start_time": "2024-09-08T23:18:11.413Z"
   },
   {
    "duration": 12,
    "start_time": "2024-09-08T23:18:51.534Z"
   },
   {
    "duration": 2,
    "start_time": "2024-09-08T23:18:53.963Z"
   },
   {
    "duration": 11,
    "start_time": "2024-09-08T23:18:56.550Z"
   },
   {
    "duration": 1091,
    "start_time": "2024-09-08T23:19:02.860Z"
   },
   {
    "duration": 503,
    "start_time": "2024-09-08T23:19:03.954Z"
   },
   {
    "duration": 4,
    "start_time": "2024-09-08T23:19:04.459Z"
   },
   {
    "duration": 106,
    "start_time": "2024-09-08T23:19:04.466Z"
   },
   {
    "duration": 99,
    "start_time": "2024-09-08T23:19:04.574Z"
   },
   {
    "duration": 1347,
    "start_time": "2024-09-08T23:19:04.675Z"
   },
   {
    "duration": 62,
    "start_time": "2024-09-08T23:19:06.031Z"
   },
   {
    "duration": 59,
    "start_time": "2024-09-08T23:19:06.094Z"
   },
   {
    "duration": 16,
    "start_time": "2024-09-08T23:19:06.154Z"
   },
   {
    "duration": 90,
    "start_time": "2024-09-08T23:19:06.174Z"
   },
   {
    "duration": 71,
    "start_time": "2024-09-08T23:19:06.266Z"
   },
   {
    "duration": 285,
    "start_time": "2024-09-08T23:19:06.339Z"
   },
   {
    "duration": 272,
    "start_time": "2024-09-08T23:19:06.626Z"
   },
   {
    "duration": 8,
    "start_time": "2024-09-08T23:19:06.900Z"
   },
   {
    "duration": 33,
    "start_time": "2024-09-08T23:19:06.909Z"
   },
   {
    "duration": 280,
    "start_time": "2024-09-08T23:19:06.946Z"
   },
   {
    "duration": 23,
    "start_time": "2024-09-08T23:19:07.228Z"
   },
   {
    "duration": 7,
    "start_time": "2024-09-08T23:19:07.253Z"
   },
   {
    "duration": 280,
    "start_time": "2024-09-08T23:19:07.262Z"
   },
   {
    "duration": 3,
    "start_time": "2024-09-08T23:19:07.544Z"
   },
   {
    "duration": 5,
    "start_time": "2024-09-08T23:19:07.549Z"
   },
   {
    "duration": 1011,
    "start_time": "2024-09-08T23:19:07.556Z"
   },
   {
    "duration": 597,
    "start_time": "2024-09-08T23:19:08.569Z"
   },
   {
    "duration": 126,
    "start_time": "2024-09-08T23:19:09.167Z"
   },
   {
    "duration": 338,
    "start_time": "2024-09-08T23:19:09.294Z"
   },
   {
    "duration": 3,
    "start_time": "2024-09-08T23:19:09.634Z"
   },
   {
    "duration": 3,
    "start_time": "2024-09-08T23:19:09.639Z"
   },
   {
    "duration": 4,
    "start_time": "2024-09-08T23:19:09.646Z"
   },
   {
    "duration": 160,
    "start_time": "2024-09-08T23:58:09.457Z"
   },
   {
    "duration": 12,
    "start_time": "2024-09-08T23:58:20.513Z"
   },
   {
    "duration": 5,
    "start_time": "2024-09-09T00:02:21.382Z"
   },
   {
    "duration": 11,
    "start_time": "2024-09-09T00:03:15.502Z"
   },
   {
    "duration": 13,
    "start_time": "2024-09-09T00:03:37.224Z"
   },
   {
    "duration": 5,
    "start_time": "2024-09-09T00:05:18.798Z"
   },
   {
    "duration": 11,
    "start_time": "2024-09-09T00:06:02.107Z"
   },
   {
    "duration": 5,
    "start_time": "2024-09-09T00:06:42.934Z"
   },
   {
    "duration": 3,
    "start_time": "2024-09-09T00:14:10.518Z"
   },
   {
    "duration": 14,
    "start_time": "2024-09-09T00:15:37.359Z"
   },
   {
    "duration": 6,
    "start_time": "2024-09-09T00:16:12.886Z"
   },
   {
    "duration": 11,
    "start_time": "2024-09-09T00:16:46.234Z"
   },
   {
    "duration": 34,
    "start_time": "2024-09-09T00:17:38.654Z"
   },
   {
    "duration": 6,
    "start_time": "2024-09-09T00:18:27.349Z"
   },
   {
    "duration": 6,
    "start_time": "2024-09-09T00:18:29.724Z"
   },
   {
    "duration": 12,
    "start_time": "2024-09-09T00:19:10.470Z"
   },
   {
    "duration": 5,
    "start_time": "2024-09-09T00:21:25.714Z"
   },
   {
    "duration": 12,
    "start_time": "2024-09-09T00:22:06.512Z"
   },
   {
    "duration": 12,
    "start_time": "2024-09-09T00:23:09.697Z"
   },
   {
    "duration": 11,
    "start_time": "2024-09-09T00:23:26.070Z"
   },
   {
    "duration": 12,
    "start_time": "2024-09-09T00:24:39.218Z"
   },
   {
    "duration": 12,
    "start_time": "2024-09-09T00:25:40.851Z"
   },
   {
    "duration": 13,
    "start_time": "2024-09-09T00:26:18.402Z"
   },
   {
    "duration": 1040,
    "start_time": "2024-09-14T04:48:18.830Z"
   },
   {
    "duration": 494,
    "start_time": "2024-09-14T04:48:19.872Z"
   },
   {
    "duration": 4,
    "start_time": "2024-09-14T04:48:20.370Z"
   },
   {
    "duration": 99,
    "start_time": "2024-09-14T04:48:20.377Z"
   },
   {
    "duration": 95,
    "start_time": "2024-09-14T04:48:20.478Z"
   },
   {
    "duration": 1310,
    "start_time": "2024-09-14T04:48:20.586Z"
   },
   {
    "duration": 61,
    "start_time": "2024-09-14T04:48:21.898Z"
   },
   {
    "duration": 61,
    "start_time": "2024-09-14T04:48:21.961Z"
   },
   {
    "duration": 16,
    "start_time": "2024-09-14T04:48:22.024Z"
   },
   {
    "duration": 96,
    "start_time": "2024-09-14T04:48:22.043Z"
   },
   {
    "duration": 67,
    "start_time": "2024-09-14T04:48:22.141Z"
   },
   {
    "duration": 285,
    "start_time": "2024-09-14T04:48:22.212Z"
   },
   {
    "duration": 290,
    "start_time": "2024-09-14T04:48:22.499Z"
   },
   {
    "duration": 8,
    "start_time": "2024-09-14T04:48:22.791Z"
   },
   {
    "duration": 20,
    "start_time": "2024-09-14T04:48:22.801Z"
   },
   {
    "duration": 294,
    "start_time": "2024-09-14T04:48:22.822Z"
   },
   {
    "duration": 25,
    "start_time": "2024-09-14T04:48:23.118Z"
   },
   {
    "duration": 8,
    "start_time": "2024-09-14T04:48:23.145Z"
   },
   {
    "duration": 295,
    "start_time": "2024-09-14T04:48:23.155Z"
   },
   {
    "duration": 3,
    "start_time": "2024-09-14T04:48:23.452Z"
   },
   {
    "duration": 5,
    "start_time": "2024-09-14T04:48:23.457Z"
   },
   {
    "duration": 370,
    "start_time": "2024-09-14T04:48:23.464Z"
   },
   {
    "duration": 0,
    "start_time": "2024-09-14T04:48:23.837Z"
   },
   {
    "duration": 0,
    "start_time": "2024-09-14T04:48:23.838Z"
   },
   {
    "duration": 0,
    "start_time": "2024-09-14T04:48:23.839Z"
   },
   {
    "duration": 0,
    "start_time": "2024-09-14T04:48:23.840Z"
   },
   {
    "duration": 0,
    "start_time": "2024-09-14T04:48:23.841Z"
   },
   {
    "duration": 0,
    "start_time": "2024-09-14T04:48:23.842Z"
   },
   {
    "duration": 0,
    "start_time": "2024-09-14T04:48:23.843Z"
   },
   {
    "duration": 0,
    "start_time": "2024-09-14T04:48:23.844Z"
   },
   {
    "duration": 0,
    "start_time": "2024-09-14T04:48:23.845Z"
   },
   {
    "duration": 0,
    "start_time": "2024-09-14T04:48:23.846Z"
   },
   {
    "duration": 0,
    "start_time": "2024-09-14T04:48:23.847Z"
   },
   {
    "duration": 0,
    "start_time": "2024-09-14T04:48:23.848Z"
   },
   {
    "duration": 0,
    "start_time": "2024-09-14T04:48:23.849Z"
   },
   {
    "duration": 0,
    "start_time": "2024-09-14T04:48:23.850Z"
   },
   {
    "duration": 0,
    "start_time": "2024-09-14T04:48:23.852Z"
   },
   {
    "duration": 0,
    "start_time": "2024-09-14T04:48:23.852Z"
   },
   {
    "duration": 0,
    "start_time": "2024-09-14T04:48:23.853Z"
   },
   {
    "duration": 0,
    "start_time": "2024-09-14T04:48:23.854Z"
   },
   {
    "duration": 0,
    "start_time": "2024-09-14T04:48:23.887Z"
   },
   {
    "duration": 0,
    "start_time": "2024-09-14T04:48:23.888Z"
   },
   {
    "duration": 0,
    "start_time": "2024-09-14T04:48:23.889Z"
   },
   {
    "duration": 0,
    "start_time": "2024-09-14T04:48:23.890Z"
   },
   {
    "duration": 0,
    "start_time": "2024-09-14T04:48:23.891Z"
   },
   {
    "duration": 0,
    "start_time": "2024-09-14T04:48:23.892Z"
   },
   {
    "duration": 0,
    "start_time": "2024-09-14T04:48:23.893Z"
   },
   {
    "duration": 0,
    "start_time": "2024-09-14T04:48:23.894Z"
   },
   {
    "duration": 0,
    "start_time": "2024-09-14T04:48:23.896Z"
   },
   {
    "duration": 986,
    "start_time": "2024-09-14T04:49:12.801Z"
   },
   {
    "duration": 976,
    "start_time": "2024-09-14T04:49:26.179Z"
   },
   {
    "duration": 633,
    "start_time": "2024-09-14T04:49:30.491Z"
   },
   {
    "duration": 698,
    "start_time": "2024-09-14T04:49:33.025Z"
   },
   {
    "duration": 121,
    "start_time": "2024-09-14T04:49:33.725Z"
   }
  ],
  "kernelspec": {
   "display_name": "Python 3 (ipykernel)",
   "language": "python",
   "name": "python3"
  },
  "language_info": {
   "codemirror_mode": {
    "name": "ipython",
    "version": 3
   },
   "file_extension": ".py",
   "mimetype": "text/x-python",
   "name": "python",
   "nbconvert_exporter": "python",
   "pygments_lexer": "ipython3",
   "version": "3.9.19"
  },
  "toc": {
   "base_numbering": 1,
   "nav_menu": {},
   "number_sections": true,
   "sideBar": true,
   "skip_h1_title": true,
   "title_cell": "Table of Contents",
   "title_sidebar": "Contents",
   "toc_cell": false,
   "toc_position": {
    "height": "calc(100% - 180px)",
    "left": "10px",
    "top": "150px",
    "width": "252.797px"
   },
   "toc_section_display": true,
   "toc_window_display": false
  }
 },
 "nbformat": 4,
 "nbformat_minor": 2
}
